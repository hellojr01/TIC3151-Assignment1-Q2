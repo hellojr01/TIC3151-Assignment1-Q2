{
 "cells": [
  {
   "cell_type": "markdown",
   "metadata": {},
   "source": [
    "<img src=\"tic3151.png\" style=\"height: 70px; width: 200px\" align=left> \n",
    "<img src=\"logo-MMU.png\" style=\"height: 70px; width: 200px\" align=right>"
   ]
  },
  {
   "cell_type": "markdown",
   "metadata": {},
   "source": [
    "### **Question 2: Programming**"
   ]
  },
  {
   "cell_type": "markdown",
   "metadata": {},
   "source": [
    "### **a. A-Star Search**"
   ]
  },
  {
   "cell_type": "markdown",
   "metadata": {},
   "source": [
    "### Install pymaze"
   ]
  },
  {
   "cell_type": "code",
   "execution_count": null,
   "metadata": {},
   "outputs": [],
   "source": [
    "pip install pyamaze"
   ]
  },
  {
   "cell_type": "code",
   "execution_count": null,
   "metadata": {},
   "outputs": [],
   "source": [
    "from pyamaze import maze,agent,textLabel,COLOR\n",
    "from queue import PriorityQueue"
   ]
  },
  {
   "cell_type": "markdown",
   "metadata": {},
   "source": [
    "### Create a maze"
   ]
  },
  {
   "cell_type": "code",
   "execution_count": null,
   "metadata": {},
   "outputs": [],
   "source": [
    "# Declaring the heuristic function as manhattan distance\n",
    "\n",
    "def h(cell1,cell2):\n",
    "    x1,y1=cell1\n",
    "    x2,y2=cell2\n",
    "    return abs(x1-x2) + abs(y1-y2)"
   ]
  },
  {
   "cell_type": "code",
   "execution_count": null,
   "metadata": {},
   "outputs": [],
   "source": [
    "def aStar(m,start,goal):\n",
    "    # start=(m.rows,m.cols)\n",
    "    # inf = infinity\n",
    "    g_score={cell:float('inf') for cell in m.grid} # distance from the start node\n",
    "    print(g_score)\n",
    "    g_score[start]=0\n",
    "    f_score={cell:float('inf') for cell in m.grid} # total cost by summing up the g and h \n",
    "    f_score[start]=h(start,goal)\n",
    "\n",
    "    open=PriorityQueue() # Priority queue is looking for the f which is having the lowest value\n",
    "    open.put((h(start,goal),h(start,goal),start))\n",
    "    aPath={}\n",
    "    \n",
    "    while not open.empty():\n",
    "        currCell=open.get()[2]\n",
    "        if currCell==goal:\n",
    "            break\n",
    "        for d in \"ESNW\":\n",
    "            if m.maze_map[currCell][d]==True:\n",
    "                if d=='E':\n",
    "                    childCell=(currCell[0],currCell[1]+1)\n",
    "                if d=='W':\n",
    "                    childCell=(currCell[0],currCell[1]-1)\n",
    "                if d=='N':\n",
    "                    childCell=(currCell[0]-1,currCell[1])\n",
    "                if d=='S':\n",
    "                    childCell=(currCell[0]+1,currCell[1])\n",
    "\n",
    "                temp_g_score=g_score[currCell]+1\n",
    "                temp_f_score=temp_g_score+h(childCell,goal)\n",
    "\n",
    "                if temp_f_score < f_score[childCell]:\n",
    "                    g_score[childCell]=temp_g_score\n",
    "                    f_score[childCell]=temp_f_score\n",
    "                    open.put((temp_f_score,h(childCell,goal),childCell))\n",
    "                    aPath[childCell]=currCell\n",
    "\n",
    "    \n",
    "    fwdPath={}\n",
    "    cell=goal\n",
    "    \n",
    "    while cell!=start:\n",
    "        fwdPath[aPath[cell]]=cell\n",
    "        cell=aPath[cell]\n",
    "    return fwdPath"
   ]
  },
  {
   "cell_type": "markdown",
   "metadata": {},
   "source": [
    "### Visualize the aStar path"
   ]
  },
  {
   "cell_type": "code",
   "execution_count": null,
   "metadata": {},
   "outputs": [],
   "source": [
    "start = (3,3)\n",
    "goal = (7,7)\n",
    "m=maze(8,8)\n",
    "m.CreateMaze(7,7)\n",
    "path=aStar(m,start,goal)\n",
    "\n",
    "a=agent(m,footprints=True)\n",
    "m.tracePath({a:path})\n",
    "l=textLabel(m,'A Star Path Length',len(path)+1)\n",
    "\n",
    "m.run()"
   ]
  },
  {
   "cell_type": "code",
   "execution_count": null,
   "metadata": {},
   "outputs": [],
   "source": [
    "m=maze(12,12)\n",
    "m.CreateMaze()\n",
    "path=aStar(m)\n",
    "\n",
    "a=agent(m,footprints=True)\n",
    "m.tracePath({a:path})\n",
    "l=textLabel(m,'A Star Path Length',len(path)+1)\n",
    "\n",
    "m.run()"
   ]
  },
  {
   "cell_type": "code",
   "execution_count": null,
   "metadata": {},
   "outputs": [],
   "source": [
    "m=maze(10,10)\n",
    "m.CreateMaze()\n",
    "path=aStar(m)\n",
    "\n",
    "a=agent(m,footprints=True)\n",
    "m.tracePath({a:path})\n",
    "l=textLabel(m,'A Star Path Length',len(path)+1)\n",
    "\n",
    "m.run()"
   ]
  },
  {
   "cell_type": "code",
   "execution_count": null,
   "metadata": {},
   "outputs": [],
   "source": [
    "m=maze(15,15)\n",
    "m.CreateMaze()\n",
    "path=aStar(m)\n",
    "\n",
    "a=agent(m,footprints=True)\n",
    "m.tracePath({a:path})\n",
    "l=textLabel(m,'A Star Path Length',len(path)+1)\n",
    "\n",
    "m.run()"
   ]
  },
  {
   "cell_type": "code",
   "execution_count": null,
   "metadata": {},
   "outputs": [],
   "source": [
    "m=maze(12,10)\n",
    "m.CreateMaze()\n",
    "path=aStar(m)\n",
    "\n",
    "a=agent(m,footprints=True)\n",
    "m.tracePath({a:path})\n",
    "l=textLabel(m,'A Star Path Length',len(path)+1)\n",
    "\n",
    "m.run()"
   ]
  }
 ],
 "metadata": {
  "interpreter": {
   "hash": "1118ab63d06f1c6ba6d83cce418698a460359b4f9ce8365e4a671d59781675a7"
  },
  "kernelspec": {
   "display_name": "Python 3.8.8 ('base')",
   "language": "python",
   "name": "python3"
  },
  "language_info": {
   "codemirror_mode": {
    "name": "ipython",
    "version": 3
   },
   "file_extension": ".py",
   "mimetype": "text/x-python",
   "name": "python",
   "nbconvert_exporter": "python",
   "pygments_lexer": "ipython3",
   "version": "3.10.0"
  },
  "orig_nbformat": 4
 },
 "nbformat": 4,
 "nbformat_minor": 2
}

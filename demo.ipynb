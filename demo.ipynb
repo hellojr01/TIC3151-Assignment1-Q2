{
 "cells": [
  {
   "cell_type": "markdown",
   "metadata": {},
   "source": [
    "<img src=\"tic3151.png\" style=\"height: 70px; width: 200px\" align=left> \n",
    "<img src=\"logo-MMU.png\" style=\"height: 70px; width: 200px\" align=right>"
   ]
  },
  {
   "cell_type": "markdown",
   "metadata": {},
   "source": [
    "### **Question 2: Programming**"
   ]
  },
  {
   "cell_type": "markdown",
   "metadata": {},
   "source": [
    "### **a. A-Star Search**"
   ]
  },
  {
   "cell_type": "markdown",
   "metadata": {},
   "source": [
    "### Install pymaze"
   ]
  },
  {
   "cell_type": "code",
   "execution_count": null,
   "metadata": {},
   "outputs": [],
   "source": [
    "pip install pyamaze"
   ]
  },
  {
   "cell_type": "code",
   "execution_count": 1,
   "metadata": {},
   "outputs": [],
   "source": [
    "from pyamaze import maze,agent,textLabel,COLOR\n",
    "from queue import PriorityQueue"
   ]
  },
  {
   "cell_type": "markdown",
   "metadata": {},
   "source": [
    "### Create 5 maze"
   ]
  },
  {
   "cell_type": "code",
   "execution_count": 4,
   "metadata": {},
   "outputs": [],
   "source": [
    "m=maze(10,10)\n",
    "m.CreateMaze(saveMaze=True)"
   ]
  },
  {
   "cell_type": "code",
   "execution_count": 5,
   "metadata": {},
   "outputs": [],
   "source": [
    "m=maze(10,12)\n",
    "m.CreateMaze(saveMaze=True)"
   ]
  },
  {
   "cell_type": "code",
   "execution_count": 6,
   "metadata": {},
   "outputs": [],
   "source": [
    "m=maze(12,10)\n",
    "m.CreateMaze(saveMaze=True)"
   ]
  },
  {
   "cell_type": "code",
   "execution_count": 7,
   "metadata": {},
   "outputs": [],
   "source": [
    "m=maze(15,15)\n",
    "m.CreateMaze(saveMaze=True)"
   ]
  },
  {
   "cell_type": "code",
   "execution_count": 8,
   "metadata": {},
   "outputs": [],
   "source": [
    "m=maze(11,13)\n",
    "m.CreateMaze(saveMaze=True)"
   ]
  },
  {
   "cell_type": "code",
   "execution_count": null,
   "metadata": {},
   "outputs": [],
   "source": [
    "# Declaring the heuristic function as manhattan distance\n",
    "\n",
    "def h(cell1,cell2):\n",
    "    x1,y1=cell1\n",
    "    x2,y2=cell2\n",
    "    return abs(x1-x2) + abs(y1-y2)"
   ]
  },
  {
   "cell_type": "code",
   "execution_count": null,
   "metadata": {},
   "outputs": [],
   "source": [
    "def aStar(m,start,goal):\n",
    "    # start=(m.rows,m.cols)\n",
    "    # inf = infinity\n",
    "    g_score={cell:float('inf') for cell in m.grid} # distance from the start node\n",
    "    print(g_score)\n",
    "    g_score[start]=0\n",
    "    f_score={cell:float('inf') for cell in m.grid} # total cost by summing up the g and h \n",
    "    f_score[start]=h(start,goal)\n",
    "\n",
    "    open=PriorityQueue() # Priority queue is looking for the f which is having the lowest value\n",
    "    open.put((h(start,goal),h(start,goal),start))\n",
    "    aPath={}\n",
    "    \n",
    "    while not open.empty():\n",
    "        currCell=open.get()[2]\n",
    "        if currCell==goal:\n",
    "            break\n",
    "        for d in \"ESNW\":\n",
    "            if m.maze_map[currCell][d]==True:\n",
    "                if d=='E':\n",
    "                    childCell=(currCell[0],currCell[1]+1)\n",
    "                if d=='W':\n",
    "                    childCell=(currCell[0],currCell[1]-1)\n",
    "                if d=='N':\n",
    "                    childCell=(currCell[0]-1,currCell[1])\n",
    "                if d=='S':\n",
    "                    childCell=(currCell[0]+1,currCell[1])\n",
    "\n",
    "                temp_g_score=g_score[currCell]+1\n",
    "                temp_f_score=temp_g_score+h(childCell,goal)\n",
    "\n",
    "                if temp_f_score < f_score[childCell]:\n",
    "                    g_score[childCell]=temp_g_score\n",
    "                    f_score[childCell]=temp_f_score\n",
    "                    open.put((temp_f_score,h(childCell,goal),childCell))\n",
    "                    aPath[childCell]=currCell\n",
    "\n",
    "    \n",
    "    fwdPath={}\n",
    "    cell=goal\n",
    "    \n",
    "    while cell!=start:\n",
    "        fwdPath[aPath[cell]]=cell\n",
    "        cell=aPath[cell]\n",
    "    return fwdPath"
   ]
  },
  {
   "cell_type": "markdown",
   "metadata": {},
   "source": [
    "### Visualize the aStar path"
   ]
  },
  {
   "cell_type": "code",
   "execution_count": 3,
   "metadata": {},
   "outputs": [
    {
     "ename": "NameError",
     "evalue": "name 'aStar' is not defined",
     "output_type": "error",
     "traceback": [
      "\u001b[1;31m---------------------------------------------------------------------------\u001b[0m",
      "\u001b[1;31mNameError\u001b[0m                                 Traceback (most recent call last)",
      "\u001b[1;32mc:\\Users\\Lee Jia Rou\\Documents\\Bachelor of Computer Science\\Year 2\\y2s2\\TIC3151 - Artificial Intelligence\\Assignment\\TIC3151-Assignment1-Q2\\demo.ipynb Cell 16'\u001b[0m in \u001b[0;36m<module>\u001b[1;34m\u001b[0m\n\u001b[0;32m      <a href='vscode-notebook-cell:/c%3A/Users/Lee%20Jia%20Rou/Documents/Bachelor%20of%20Computer%20Science/Year%202/y2s2/TIC3151%20-%20Artificial%20Intelligence/Assignment/TIC3151-Assignment1-Q2/demo.ipynb#ch0000010?line=2'>3</a>\u001b[0m m\u001b[39m=\u001b[39mmaze(\u001b[39m8\u001b[39m,\u001b[39m8\u001b[39m)\n\u001b[0;32m      <a href='vscode-notebook-cell:/c%3A/Users/Lee%20Jia%20Rou/Documents/Bachelor%20of%20Computer%20Science/Year%202/y2s2/TIC3151%20-%20Artificial%20Intelligence/Assignment/TIC3151-Assignment1-Q2/demo.ipynb#ch0000010?line=3'>4</a>\u001b[0m m\u001b[39m.\u001b[39mCreateMaze()\n\u001b[1;32m----> <a href='vscode-notebook-cell:/c%3A/Users/Lee%20Jia%20Rou/Documents/Bachelor%20of%20Computer%20Science/Year%202/y2s2/TIC3151%20-%20Artificial%20Intelligence/Assignment/TIC3151-Assignment1-Q2/demo.ipynb#ch0000010?line=4'>5</a>\u001b[0m path\u001b[39m=\u001b[39maStar(m,start,goal)\n\u001b[0;32m      <a href='vscode-notebook-cell:/c%3A/Users/Lee%20Jia%20Rou/Documents/Bachelor%20of%20Computer%20Science/Year%202/y2s2/TIC3151%20-%20Artificial%20Intelligence/Assignment/TIC3151-Assignment1-Q2/demo.ipynb#ch0000010?line=6'>7</a>\u001b[0m a\u001b[39m=\u001b[39magent(m,footprints\u001b[39m=\u001b[39m\u001b[39mTrue\u001b[39;00m)\n\u001b[0;32m      <a href='vscode-notebook-cell:/c%3A/Users/Lee%20Jia%20Rou/Documents/Bachelor%20of%20Computer%20Science/Year%202/y2s2/TIC3151%20-%20Artificial%20Intelligence/Assignment/TIC3151-Assignment1-Q2/demo.ipynb#ch0000010?line=7'>8</a>\u001b[0m m\u001b[39m.\u001b[39mtracePath({a:path})\n",
      "\u001b[1;31mNameError\u001b[0m: name 'aStar' is not defined"
     ]
    }
   ],
   "source": [
    "start = (3,3)\n",
    "goal = (7,7)\n",
    "m=maze()\n",
    "m.CreateMaze(loadMaze='maze10-10.csv')\n",
    "path=aStar(m,start,goal)\n",
    "\n",
    "a=agent(m,footprints=True)\n",
    "m.tracePath({a:path})\n",
    "l=textLabel(m,'A Star Path Length',len(path)+1)\n",
    "\n",
    "m.run()"
   ]
  },
  {
   "cell_type": "code",
   "execution_count": null,
   "metadata": {},
   "outputs": [],
   "source": [
    "m=maze(12,12)\n",
    "m.CreateMaze()\n",
    "path=aStar(m)\n",
    "\n",
    "a=agent(m,footprints=True)\n",
    "m.tracePath({a:path})\n",
    "l=textLabel(m,'A Star Path Length',len(path)+1)\n",
    "\n",
    "m.run()"
   ]
  },
  {
   "cell_type": "code",
   "execution_count": null,
   "metadata": {},
   "outputs": [],
   "source": [
    "m=maze(10,10)\n",
    "m.CreateMaze()\n",
    "path=aStar(m)\n",
    "\n",
    "a=agent(m,footprints=True)\n",
    "m.tracePath({a:path})\n",
    "l=textLabel(m,'A Star Path Length',len(path)+1)\n",
    "\n",
    "m.run()"
   ]
  },
  {
   "cell_type": "code",
   "execution_count": null,
   "metadata": {},
   "outputs": [],
   "source": [
    "m=maze(15,15)\n",
    "m.CreateMaze()\n",
    "path=aStar(m)\n",
    "\n",
    "a=agent(m,footprints=True)\n",
    "m.tracePath({a:path})\n",
    "l=textLabel(m,'A Star Path Length',len(path)+1)\n",
    "\n",
    "m.run()"
   ]
  },
  {
   "cell_type": "code",
   "execution_count": null,
   "metadata": {},
   "outputs": [],
   "source": [
    "m=maze(12,10)\n",
    "m.CreateMaze()\n",
    "path=aStar(m)\n",
    "\n",
    "a=agent(m,footprints=True)\n",
    "m.tracePath({a:path})\n",
    "l=textLabel(m,'A Star Path Length',len(path)+1)\n",
    "\n",
    "m.run()"
   ]
  }
 ],
 "metadata": {
  "interpreter": {
   "hash": "1118ab63d06f1c6ba6d83cce418698a460359b4f9ce8365e4a671d59781675a7"
  },
  "kernelspec": {
   "display_name": "Python 3.8.8 ('base')",
   "language": "python",
   "name": "python3"
  },
  "language_info": {
   "codemirror_mode": {
    "name": "ipython",
    "version": 3
   },
   "file_extension": ".py",
   "mimetype": "text/x-python",
   "name": "python",
   "nbconvert_exporter": "python",
   "pygments_lexer": "ipython3",
   "version": "3.10.0"
  },
  "orig_nbformat": 4
 },
 "nbformat": 4,
 "nbformat_minor": 2
}

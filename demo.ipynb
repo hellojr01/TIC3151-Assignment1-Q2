{
 "cells": [
  {
   "cell_type": "markdown",
   "metadata": {},
   "source": [
    "<img src=\"tic3151.png\" style=\"height: 70px; width: 200px\" align=left> \n",
    "<img src=\"logo-MMU.png\" style=\"height: 70px; width: 200px\" align=right>"
   ]
  },
  {
   "cell_type": "markdown",
   "metadata": {},
   "source": [
    "### **Question 2: Programming**"
   ]
  },
  {
   "cell_type": "markdown",
   "metadata": {},
   "source": [
    "### Install pyamaze"
   ]
  },
  {
   "cell_type": "code",
   "execution_count": null,
   "metadata": {},
   "outputs": [],
   "source": [
    "#pip install pyamaze"
   ]
  },
  {
   "cell_type": "code",
   "execution_count": null,
   "metadata": {},
   "outputs": [],
   "source": [
    "from pyamaze import maze,agent,textLabel,COLOR\n",
    "from queue import PriorityQueue\n",
    "import time"
   ]
  },
  {
   "cell_type": "markdown",
   "metadata": {},
   "source": [
    "### Maze generation"
   ]
  },
  {
   "cell_type": "code",
   "execution_count": null,
   "metadata": {},
   "outputs": [],
   "source": [
    "#m=maze(30,30)\n",
    "#m.CreateMaze(saveMaze=True, loopPercent= 40)"
   ]
  },
  {
   "cell_type": "code",
   "execution_count": null,
   "metadata": {},
   "outputs": [],
   "source": [
    "#m=maze(35,50)\n",
    "#m.CreateMaze(saveMaze=True, loopPercent = 50)"
   ]
  },
  {
   "cell_type": "code",
   "execution_count": null,
   "metadata": {},
   "outputs": [],
   "source": [
    "#m=maze(40,40)\n",
    "#m.CreateMaze(saveMaze=True)"
   ]
  },
  {
   "cell_type": "code",
   "execution_count": null,
   "metadata": {},
   "outputs": [],
   "source": [
    "#m=maze(50,35)\n",
    "#m.CreateMaze(saveMaze=True, loopPercent= 30)"
   ]
  },
  {
   "cell_type": "code",
   "execution_count": null,
   "metadata": {},
   "outputs": [],
   "source": [
    "#m=maze(60,60)\n",
    "#m.CreateMaze(saveMaze=True, loopPercent=10)"
   ]
  },
  {
   "cell_type": "markdown",
   "metadata": {},
   "source": [
    "### **A\\* Search**"
   ]
  },
  {
   "cell_type": "code",
   "execution_count": null,
   "metadata": {},
   "outputs": [],
   "source": [
    "# Declaring the heuristic function as manhattan distance\n",
    "def h(cell1,cell2):\n",
    "    x1,y1=cell1\n",
    "    x2,y2=cell2\n",
    "    return abs(x1-x2) + abs(y1-y2)\n",
    "\n",
    "def aStar(m,start):\n",
    "    # inf = infinity\n",
    "    g_score={cell:float('inf') for cell in m.grid} # distance from the start node\n",
    "    #print(g_score)\n",
    "    g_score[start]=0\n",
    "    f_score={cell:float('inf') for cell in m.grid} # total cost by summing up the g and h \n",
    "    f_score[start]=h(start,m._goal)\n",
    "\n",
    "    open=PriorityQueue() # Priority queue is looking for the f which is having the lowest value\n",
    "    open.put((h(start,m._goal),h(start,m._goal),start))\n",
    "    aPath={}\n",
    "    \n",
    "    while not open.empty():\n",
    "        currCell=open.get()[2]\n",
    "        if currCell==m._goal:\n",
    "            break\n",
    "        for d in \"ESNW\":\n",
    "            if m.maze_map[currCell][d]==True:\n",
    "                if d=='E':\n",
    "                    childCell=(currCell[0],currCell[1]+1)\n",
    "                if d=='W':\n",
    "                    childCell=(currCell[0],currCell[1]-1)\n",
    "                if d=='N':\n",
    "                    childCell=(currCell[0]-1,currCell[1])\n",
    "                if d=='S':\n",
    "                    childCell=(currCell[0]+1,currCell[1])\n",
    "\n",
    "                temp_g_score=g_score[currCell]+1\n",
    "                temp_f_score=temp_g_score+h(childCell,m._goal)\n",
    "\n",
    "                if temp_f_score < f_score[childCell]:\n",
    "                    g_score[childCell]=temp_g_score\n",
    "                    f_score[childCell]=temp_f_score\n",
    "                    open.put((temp_f_score,h(childCell,m._goal),childCell))\n",
    "                    aPath[childCell]=currCell\n",
    "\n",
    "    \n",
    "    fwdPath={}\n",
    "    cell=m._goal\n",
    "    \n",
    "    while cell!=start:\n",
    "        fwdPath[aPath[cell]]=cell\n",
    "        cell=aPath[cell]\n",
    "    return fwdPath"
   ]
  },
  {
   "cell_type": "markdown",
   "metadata": {},
   "source": [
    "### **Iterative Deepening Search (IDS)**"
   ]
  },
  {
   "cell_type": "code",
   "execution_count": null,
   "metadata": {},
   "outputs": [],
   "source": [
    "def IDS(m, start):\n",
    "    level = 0\n",
    "    frontier = [(level, start)]\n",
    "    explored = [start]\n",
    "    \n",
    "    idsPath = {}\n",
    "    while len(frontier) > 0:\n",
    "        currCell = frontier.pop(0)\n",
    "        cell = currCell[1]\n",
    "        level = currCell[0] + 1\n",
    "\n",
    "        if cell == m._goal:\n",
    "            break\n",
    "        \n",
    "        # Finding neighbor cells\n",
    "        for d in \"EWSN\":\n",
    "            # A cell has 4 direction East, West, North, and South\n",
    "            # If the direction has a wall prevent agent to move\n",
    "            # Then the value of that direction is False, else True\n",
    "            if m.maze_map[cell][d] == True:\n",
    "                if d==\"N\":\n",
    "                    childCell = (cell[0]-1, cell[1])\n",
    "                elif d==\"S\":\n",
    "                    childCell = (cell[0]+1, cell[1])\n",
    "                elif d==\"W\":\n",
    "                    childCell = (cell[0], cell[1]-1)\n",
    "                elif d==\"E\":\n",
    "                    childCell = (cell[0], cell[1]+1)\n",
    "\n",
    "                # if the location has been explored                \n",
    "                if childCell in explored:\n",
    "                    continue\n",
    "                explored.append(childCell)\n",
    "                frontier.append((level, childCell))\n",
    "                \n",
    "                # Set parent of this neighbor to the current cell\n",
    "                idsPath[childCell] = cell \n",
    "\n",
    "    # Trace back from the goal to the START cell\n",
    "    fwdPath = {}\n",
    "    while cell != start:\n",
    "        fwdPath[idsPath[cell]] = cell\n",
    "        cell = idsPath[cell]\n",
    "\n",
    "    return fwdPath"
   ]
  },
  {
   "cell_type": "markdown",
   "metadata": {},
   "source": [
    "### Select algorithm\n",
    "Select 1 algorithm out of the 2 and run the maze\n"
   ]
  },
  {
   "cell_type": "code",
   "execution_count": null,
   "metadata": {},
   "outputs": [],
   "source": [
    "algorithm = 'Iterative Deepening Search'"
   ]
  },
  {
   "cell_type": "code",
   "execution_count": null,
   "metadata": {},
   "outputs": [],
   "source": [
    "algorithm = 'A Star Search'"
   ]
  },
  {
   "cell_type": "markdown",
   "metadata": {},
   "source": [
    "### Run Maze\n",
    "The maze allows the user the change the goal throughout the runtime. <br>\n",
    "The starting point of a new goal will be based on the current position of the agent. <br>\n",
    "Every path will be recorded as soon as the agent has started to move. <br><br>\n",
    "*Instruction: In order to change the goal during run time, press \"Spacebar\" on your keyboard."
   ]
  },
  {
   "cell_type": "markdown",
   "metadata": {},
   "source": [
    "Maze 1 (30 x 30)"
   ]
  },
  {
   "cell_type": "code",
   "execution_count": null,
   "metadata": {},
   "outputs": [],
   "source": [
    "filename = 'maze30-30.csv'\n",
    "start = (30,30)\n",
    "goals = [(1,1), (30,1), (1,30)]\n",
    "\n",
    "m1=maze()\n",
    "goal = goals[0]\n",
    "m1.CreateMaze(goal[0], goal[1], loadMaze= filename)\n",
    "\n",
    "if algorithm == 'Iterative Deepening Search': \n",
    "    t0= time.time() \n",
    "    path = aStar(m1,start)\n",
    "    t1 = time.time()\n",
    "    duration = round(t1 - t0, 4)\n",
    "    m1._time_AStar.append(duration)\n",
    "\n",
    "    t0= time.time() \n",
    "    path = IDS(m1,start)\n",
    "    t1 = time.time()\n",
    "    duration = round(t1 - t0, 4)\n",
    "    m1._time_IDS.append(duration)\n",
    "else: #A Star Search\n",
    "    t0= time.time() \n",
    "    path = IDS(m1,start)\n",
    "    t1 = time.time()\n",
    "    duration = round(t1 - t0, 4)\n",
    "    m1._time_IDS.append(duration)\n",
    "\n",
    "    t0= time.time() \n",
    "    path = aStar(m1,start)\n",
    "    t1 = time.time()\n",
    "    duration = round(t1 - t0, 4)\n",
    "    m1._time_AStar.append(duration)\n",
    "\n",
    "a=agent(m1, start[0], start[1], footprints=True, filled=True)\n",
    "m1.tracePath({a:path}, delay = 50)\n",
    "l=textLabel(m1, (algorithm + ' Path Length'),len(path)+1)\n",
    "\n",
    "m1.enableChangeGoal(goals, a, algorithm)\n",
    "\n",
    "m1.run()"
   ]
  },
  {
   "cell_type": "markdown",
   "metadata": {},
   "source": [
    "Maze 2 (35 x 50)"
   ]
  },
  {
   "cell_type": "code",
   "execution_count": null,
   "metadata": {},
   "outputs": [],
   "source": [
    "filename = 'maze35-50.csv'\n",
    "start = (1,1)\n",
    "goals = [(35,20), (5,30), (35,1)]\n",
    "\n",
    "m2=maze()\n",
    "goal = goals[0]\n",
    "m2.CreateMaze(goal[0], goal[1], loadMaze= filename)\n",
    "\n",
    "if algorithm == 'Iterative Deepening Search': \n",
    "    t0= time.time() \n",
    "    path = aStar(m2,start)\n",
    "    t1 = time.time()\n",
    "    duration = round(t1 - t0, 4)\n",
    "    m2._time_AStar.append(duration)\n",
    "\n",
    "    t0= time.time() \n",
    "    path = IDS(m2,start)\n",
    "    t1 = time.time()\n",
    "    duration = round(t1 - t0, 4)\n",
    "    m2._time_IDS.append(duration)\n",
    "else: #A Star Search\n",
    "    t0= time.time() \n",
    "    path = IDS(m2,start)\n",
    "    t1 = time.time()\n",
    "    duration = round(t1 - t0, 4)\n",
    "    m2._time_IDS.append(duration)\n",
    "\n",
    "    t0= time.time() \n",
    "    path = aStar(m2,start)\n",
    "    t1 = time.time()\n",
    "    duration = round(t1 - t0, 4)\n",
    "    m2._time_AStar.append(duration)\n",
    "\n",
    "a=agent(m2, start[0], start[1], footprints=True, filled=True)\n",
    "m2.tracePath({a:path}, delay = 50)\n",
    "l=textLabel(m2, (algorithm + ' Path Length'),len(path)+1)\n",
    "\n",
    "m2.enableChangeGoal(goals, a, algorithm)\n",
    "\n",
    "m2.run()"
   ]
  },
  {
   "cell_type": "markdown",
   "metadata": {},
   "source": [
    "Maze 3 (40 x 40)"
   ]
  },
  {
   "cell_type": "code",
   "execution_count": null,
   "metadata": {},
   "outputs": [],
   "source": [
    "filename = 'maze40-40.csv'\n",
    "start = (6,6)\n",
    "goals = [(30,35), (1,1), (3,25)]\n",
    "\n",
    "m3=maze()\n",
    "goal = goals[0]\n",
    "m3.CreateMaze(goal[0], goal[1], loadMaze= filename)\n",
    "\n",
    "if algorithm == 'Iterative Deepening Search': \n",
    "    t0= time.time() \n",
    "    path = aStar(m3,start)\n",
    "    t1 = time.time()\n",
    "    duration = round(t1 - t0, 4)\n",
    "    m3._time_AStar.append(duration)\n",
    "\n",
    "    t0= time.time() \n",
    "    path = IDS(m3,start)\n",
    "    t1 = time.time()\n",
    "    duration = round(t1 - t0, 4)\n",
    "    m3._time_IDS.append(duration)\n",
    "else: #A Star Search\n",
    "    t0= time.time() \n",
    "    path = IDS(m3,start)\n",
    "    t1 = time.time()\n",
    "    duration = round(t1 - t0, 4)\n",
    "    m3._time_IDS.append(duration)\n",
    "\n",
    "    t0= time.time() \n",
    "    path = aStar(m3,start)\n",
    "    t1 = time.time()\n",
    "    duration = round(t1 - t0, 4)\n",
    "    m3._time_AStar.append(duration)\n",
    "\n",
    "a=agent(m3, start[0], start[1], footprints=True, filled=True)\n",
    "m3.tracePath({a:path}, delay = 50)\n",
    "l=textLabel(m3, (algorithm + ' Path Length'),len(path)+1)\n",
    "\n",
    "m3.enableChangeGoal(goals, a, algorithm)\n",
    "\n",
    "m3.run()"
   ]
  },
  {
   "cell_type": "markdown",
   "metadata": {},
   "source": [
    "Maze 4 (50 x 35)"
   ]
  },
  {
   "cell_type": "code",
   "execution_count": null,
   "metadata": {},
   "outputs": [],
   "source": [
    "filename = 'maze50-35.csv'\n",
    "start = (3,3)\n",
    "goals = [(40,30), (10,10), (30,35)]\n",
    "\n",
    "m4=maze()\n",
    "goal = goals[0]\n",
    "m4.CreateMaze(goal[0], goal[1], loadMaze= filename)\n",
    "\n",
    "if algorithm == 'Iterative Deepening Search': \n",
    "    t0= time.time() \n",
    "    path = aStar(m4,start)\n",
    "    t1 = time.time()\n",
    "    duration = round(t1 - t0, 4)\n",
    "    m4._time_AStar.append(duration)\n",
    "\n",
    "    t0= time.time() \n",
    "    path = IDS(m4,start)\n",
    "    t1 = time.time()\n",
    "    duration = round(t1 - t0, 4)\n",
    "    m4._time_IDS.append(duration)\n",
    "else: #A Star Search\n",
    "    t0= time.time() \n",
    "    path = IDS(m4,start)\n",
    "    t1 = time.time()\n",
    "    duration = round(t1 - t0, 4)\n",
    "    m4._time_IDS.append(duration)\n",
    "\n",
    "    t0= time.time() \n",
    "    path = aStar(m4,start)\n",
    "    t1 = time.time()\n",
    "    duration = round(t1 - t0, 4)\n",
    "    m4._time_AStar.append(duration)\n",
    "\n",
    "a=agent(m4, start[0], start[1], footprints=True, filled=True)\n",
    "m4.tracePath({a:path}, delay = 50)\n",
    "l=textLabel(m4, (algorithm + ' Path Length'),len(path)+1)\n",
    "\n",
    "m4.enableChangeGoal(goals, a, algorithm)\n",
    "\n",
    "m4.run()"
   ]
  },
  {
   "cell_type": "markdown",
   "metadata": {},
   "source": [
    "Maze 5 (60 x 60)"
   ]
  },
  {
   "cell_type": "code",
   "execution_count": null,
   "metadata": {},
   "outputs": [],
   "source": [
    "filename = 'maze60-60.csv'\n",
    "start = (25,25)\n",
    "goals = [(55,55), (8,18), (1,60)]\n",
    "\n",
    "m5=maze()\n",
    "goal = goals[0]\n",
    "m5.CreateMaze(goal[0], goal[1], loadMaze= filename)\n",
    "\n",
    "if algorithm == 'Iterative Deepening Search': \n",
    "    t0= time.time() \n",
    "    path = aStar(m5,start)\n",
    "    t1 = time.time()\n",
    "    duration = round(t1 - t0, 4)\n",
    "    m5._time_AStar.append(duration)\n",
    "\n",
    "    t0= time.time() \n",
    "    path = IDS(m5,start)\n",
    "    t1 = time.time()\n",
    "    duration = round(t1 - t0, 4)\n",
    "    m5._time_IDS.append(duration)\n",
    "else: #A Star Search\n",
    "    t0= time.time() \n",
    "    path = IDS(m5,start)\n",
    "    t1 = time.time()\n",
    "    duration = round(t1 - t0, 4)\n",
    "    m5._time_IDS.append(duration)\n",
    "\n",
    "    t0= time.time() \n",
    "    path = aStar(m5,start)\n",
    "    t1 = time.time()\n",
    "    duration = round(t1 - t0, 4)\n",
    "    m5._time_AStar.append(duration)\n",
    "    \n",
    "a=agent(m5, start[0], start[1], footprints=True, filled=True)\n",
    "m5.tracePath({a:path}, delay = 50)\n",
    "l=textLabel(m5, (algorithm + ' Path Length'),len(path)+1)\n",
    "\n",
    "m5.enableChangeGoal(goals, a, algorithm)\n",
    "\n",
    "m5.run()"
   ]
  },
  {
   "cell_type": "markdown",
   "metadata": {},
   "source": [
    "### Plot line chart"
   ]
  },
  {
   "cell_type": "markdown",
   "metadata": {},
   "source": [
    "Install pandas"
   ]
  },
  {
   "cell_type": "code",
   "execution_count": null,
   "metadata": {},
   "outputs": [],
   "source": [
    "#pip install pandas"
   ]
  },
  {
   "cell_type": "markdown",
   "metadata": {},
   "source": [
    "Install matplotlib"
   ]
  },
  {
   "cell_type": "code",
   "execution_count": null,
   "metadata": {},
   "outputs": [],
   "source": [
    "#pip install matplotlib"
   ]
  },
  {
   "cell_type": "code",
   "execution_count": null,
   "metadata": {},
   "outputs": [],
   "source": [
    "import matplotlib, pandas as pd"
   ]
  },
  {
   "cell_type": "code",
   "execution_count": null,
   "metadata": {},
   "outputs": [],
   "source": [
    "mazeName1 = 'maze' + str(m1.rows) + '-' + str(m1.cols)\n",
    "mazeName2 = 'maze' + str(m2.rows) + '-' + str(m2.cols)\n",
    "mazeName3 = 'maze' + str(m3.rows) + '-' + str(m3.cols)\n",
    "mazeName4 = 'maze' + str(m4.rows) + '-' + str(m4.cols)\n",
    "mazeName5 = 'maze' + str(m5.rows) + '-' + str(m5.cols)\n",
    "\n",
    "df_AStar = pd.DataFrame({\n",
    "   mazeName1: m1._time_AStar,\n",
    "   mazeName2: m2._time_AStar,\n",
    "   mazeName3: m3._time_AStar,\n",
    "   mazeName4: m4._time_AStar,\n",
    "   mazeName5: m5._time_AStar,\n",
    "   }, index=['goal 1','goal 2', 'goal 3'])\n",
    "\n",
    "df_IDS = pd.DataFrame({\n",
    "   mazeName1: m1._time_IDS,\n",
    "   mazeName2: m2._time_IDS,\n",
    "   mazeName3: m3._time_IDS,\n",
    "   mazeName4: m4._time_IDS,\n",
    "   mazeName5: m5._time_IDS,\n",
    "   }, index=['goal 1','goal 2', 'goal 3'])"
   ]
  },
  {
   "cell_type": "markdown",
   "metadata": {},
   "source": [
    "### Line Graph (A Star)"
   ]
  },
  {
   "cell_type": "code",
   "execution_count": null,
   "metadata": {},
   "outputs": [],
   "source": [
    "lines_AStar = df_AStar.plot.line()"
   ]
  },
  {
   "cell_type": "markdown",
   "metadata": {},
   "source": [
    "### Line Graph (Iterative Deepening Search)"
   ]
  },
  {
   "cell_type": "code",
   "execution_count": null,
   "metadata": {},
   "outputs": [],
   "source": [
    "lines_IDS = df_IDS.plot.line()"
   ]
  }
 ],
 "metadata": {
  "interpreter": {
   "hash": "1118ab63d06f1c6ba6d83cce418698a460359b4f9ce8365e4a671d59781675a7"
  },
  "kernelspec": {
   "display_name": "Python 3.8.8 ('base')",
   "language": "python",
   "name": "python3"
  },
  "language_info": {
   "codemirror_mode": {
    "name": "ipython",
    "version": 3
   },
   "file_extension": ".py",
   "mimetype": "text/x-python",
   "name": "python",
   "nbconvert_exporter": "python",
   "pygments_lexer": "ipython3",
   "version": "3.10.2"
  },
  "orig_nbformat": 4
 },
 "nbformat": 4,
 "nbformat_minor": 2
}

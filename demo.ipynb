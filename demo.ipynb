{
 "cells": [
  {
   "cell_type": "markdown",
   "metadata": {},
   "source": [
    "<img src=\"tic3151.png\" style=\"height: 70px; width: 200px\" align=left> \n",
    "<img src=\"logo-MMU.png\" style=\"height: 70px; width: 200px\" align=right>"
   ]
  },
  {
   "cell_type": "markdown",
   "metadata": {},
   "source": [
    "### **Question 2: Programming**"
   ]
  },
  {
   "cell_type": "markdown",
   "metadata": {},
   "source": [
    "### **a. A-Star Search**"
   ]
  },
  {
   "cell_type": "markdown",
   "metadata": {},
   "source": [
    "### Install pymaze"
   ]
  },
  {
   "cell_type": "code",
   "execution_count": null,
   "metadata": {},
   "outputs": [],
   "source": [
    "#pip install pyamaze"
   ]
  },
  {
   "cell_type": "code",
   "execution_count": 1,
   "metadata": {},
   "outputs": [],
   "source": [
    "from pyamaze import maze,agent,textLabel,COLOR\n",
    "from queue import PriorityQueue"
   ]
  },
  {
   "cell_type": "markdown",
   "metadata": {},
   "source": [
    "### Maze generation"
   ]
  },
  {
   "cell_type": "code",
   "execution_count": null,
   "metadata": {},
   "outputs": [],
   "source": [
    "#m=maze(30,30)\n",
    "#m.CreateMaze(saveMaze=True, loopPercent= 40)"
   ]
  },
  {
   "cell_type": "code",
   "execution_count": null,
   "metadata": {},
   "outputs": [],
   "source": [
    "#m=maze(35,50)\n",
    "#m.CreateMaze(saveMaze=True, loopPercent = 50)"
   ]
  },
  {
   "cell_type": "code",
   "execution_count": null,
   "metadata": {},
   "outputs": [],
   "source": [
    "#m=maze(40,40)\n",
    "#m.CreateMaze(saveMaze=True)"
   ]
  },
  {
   "cell_type": "code",
   "execution_count": null,
   "metadata": {},
   "outputs": [],
   "source": [
    "#m=maze(50,35)\n",
    "#m.CreateMaze(saveMaze=True, loopPercent= 30)"
   ]
  },
  {
   "cell_type": "code",
   "execution_count": null,
   "metadata": {},
   "outputs": [],
   "source": [
    "#m=maze(60,60)\n",
    "#m.CreateMaze(saveMaze=True, loopPercent=10)"
   ]
  },
  {
   "cell_type": "markdown",
   "metadata": {},
   "source": [
    "### **A\\* Search**"
   ]
  },
  {
   "cell_type": "code",
   "execution_count": 2,
   "metadata": {},
   "outputs": [],
   "source": [
    "# Declaring the heuristic function as manhattan distance\n",
    "def h(cell1,cell2):\n",
    "    x1,y1=cell1\n",
    "    x2,y2=cell2\n",
    "    return abs(x1-x2) + abs(y1-y2)\n",
    "\n",
    "def aStar(m,start):\n",
    "    # inf = infinity\n",
    "    g_score={cell:float('inf') for cell in m.grid} # distance from the start node\n",
    "    #print(g_score)\n",
    "    g_score[start]=0\n",
    "    f_score={cell:float('inf') for cell in m.grid} # total cost by summing up the g and h \n",
    "    f_score[start]=h(start,m._goal)\n",
    "\n",
    "    open=PriorityQueue() # Priority queue is looking for the f which is having the lowest value\n",
    "    open.put((h(start,m._goal),h(start,m._goal),start))\n",
    "    aPath={}\n",
    "    \n",
    "    while not open.empty():\n",
    "        currCell=open.get()[2]\n",
    "        if currCell==m._goal:\n",
    "            break\n",
    "        for d in \"ESNW\":\n",
    "            if m.maze_map[currCell][d]==True:\n",
    "                if d=='E':\n",
    "                    childCell=(currCell[0],currCell[1]+1)\n",
    "                if d=='W':\n",
    "                    childCell=(currCell[0],currCell[1]-1)\n",
    "                if d=='N':\n",
    "                    childCell=(currCell[0]-1,currCell[1])\n",
    "                if d=='S':\n",
    "                    childCell=(currCell[0]+1,currCell[1])\n",
    "\n",
    "                temp_g_score=g_score[currCell]+1\n",
    "                temp_f_score=temp_g_score+h(childCell,m._goal)\n",
    "\n",
    "                if temp_f_score < f_score[childCell]:\n",
    "                    g_score[childCell]=temp_g_score\n",
    "                    f_score[childCell]=temp_f_score\n",
    "                    open.put((temp_f_score,h(childCell,m._goal),childCell))\n",
    "                    aPath[childCell]=currCell\n",
    "\n",
    "    \n",
    "    fwdPath={}\n",
    "    cell=m._goal\n",
    "    \n",
    "    while cell!=start:\n",
    "        fwdPath[aPath[cell]]=cell\n",
    "        cell=aPath[cell]\n",
    "    return fwdPath"
   ]
  },
  {
   "cell_type": "markdown",
   "metadata": {},
   "source": [
    "### **Iterative Deepening Search**"
   ]
  },
  {
   "cell_type": "code",
   "execution_count": 3,
   "metadata": {},
   "outputs": [],
   "source": [
    "def IDS(m, start):\n",
    "    depth_count = 0\n",
    "    frontier = [(depth_count, start)]\n",
    "    explored = [start]\n",
    "    \n",
    "    dfsPath = {}\n",
    "    while len(frontier) > 0:\n",
    "        frontier.sort(key=lambda x: x[0])\n",
    "        currCell = frontier.pop(0)\n",
    "        cell = currCell[1]\n",
    "\n",
    "        depth_count = currCell[0] + 1\n",
    "\n",
    "        # explored.append(cell)\n",
    "\n",
    "        if cell == m._goal:\n",
    "            break\n",
    "        \n",
    "        # Finding neighbor cells\n",
    "        for d in \"EWSN\":\n",
    "            # A cell has 4 direction East, West, North, and South\n",
    "            # If the direction has a wall prevent agent to move\n",
    "            # Then the value of that direction is False, else True\n",
    "            if m.maze_map[cell][d] == True:\n",
    "                if d==\"N\":\n",
    "                    childCell = (cell[0]-1, cell[1])\n",
    "                elif d==\"S\":\n",
    "                    childCell = (cell[0]+1, cell[1])\n",
    "                elif d==\"W\":\n",
    "                    childCell = (cell[0], cell[1]-1)\n",
    "                elif d==\"E\":\n",
    "                    childCell = (cell[0], cell[1]+1)\n",
    "\n",
    "                # if the location has been explored                \n",
    "                if childCell in explored:\n",
    "                    continue\n",
    "                explored.append(childCell)\n",
    "\n",
    "                frontier.append((depth_count, childCell))\n",
    "                # Set parent of this neighbor to the current cell\n",
    "                dfsPath[childCell] = cell \n",
    "\n",
    "    # Trace back from the goal to the START cell\n",
    "    fwdPath = {}\n",
    "    while cell != start:\n",
    "        fwdPath[dfsPath[cell]] = cell\n",
    "        cell = dfsPath[cell]\n",
    "\n",
    "    return fwdPath"
   ]
  },
  {
   "cell_type": "markdown",
   "metadata": {},
   "source": [
    "### Select maze\n",
    "Run 1 maze initialization out of the 5 mazes below and proceed to next section"
   ]
  },
  {
   "cell_type": "code",
   "execution_count": null,
   "metadata": {},
   "outputs": [],
   "source": [
    "filename = 'maze30-30.csv'\n",
    "start = (30,30)\n",
    "goals = [(1,1), (30,1), (1,30)]"
   ]
  },
  {
   "cell_type": "code",
   "execution_count": null,
   "metadata": {},
   "outputs": [],
   "source": [
    "filename = 'maze35-50.csv'\n",
    "start = (1,1)\n",
    "goals = [(35,20), (5,30), (35,1)]"
   ]
  },
  {
   "cell_type": "code",
   "execution_count": null,
   "metadata": {},
   "outputs": [],
   "source": [
    "filename = 'maze40-40.csv'\n",
    "start = (6,6)\n",
    "goals = [(30,35), (1,1), (3,40)]"
   ]
  },
  {
   "cell_type": "code",
   "execution_count": 4,
   "metadata": {},
   "outputs": [],
   "source": [
    "filename = 'maze50-35.csv'\n",
    "start = (3,3)\n",
    "goals = [(40,30), (3,6), (30,35)]"
   ]
  },
  {
   "cell_type": "code",
   "execution_count": null,
   "metadata": {},
   "outputs": [],
   "source": [
    "filename = 'maze60-60.csv'\n",
    "start = (10,10)\n",
    "goals = [(55,55), (8,18), (40,60)]"
   ]
  },
  {
   "cell_type": "markdown",
   "metadata": {},
   "source": [
    "### Select algorithm\n",
    "Select 1 algorithm out of the 2 and run the maze\n"
   ]
  },
  {
   "cell_type": "code",
   "execution_count": 5,
   "metadata": {},
   "outputs": [],
   "source": [
    "algorithm = 'Iterative Deepening Search'"
   ]
  },
  {
   "cell_type": "code",
   "execution_count": null,
   "metadata": {},
   "outputs": [],
   "source": [
    "algorithm = 'A Star Search'"
   ]
  },
  {
   "cell_type": "markdown",
   "metadata": {},
   "source": [
    "### Run Maze\n",
    "*Instruction:\n",
    "In order to change the goal during run time, hit \"Spacebar\""
   ]
  },
  {
   "cell_type": "code",
   "execution_count": 6,
   "metadata": {},
   "outputs": [],
   "source": [
    "import time"
   ]
  },
  {
   "cell_type": "code",
   "execution_count": 12,
   "metadata": {},
   "outputs": [],
   "source": [
    "m=maze()\n",
    "goal = goals[0]\n",
    "m.CreateMaze(goal[0], goal[1], loadMaze= filename)\n",
    "\n",
    "if algorithm == 'Iterative Deepening Search': \n",
    "    t0= time.time() \n",
    "    path = aStar(m,start)\n",
    "    t1 = time.time()\n",
    "    duration = round(t1 - t0, 4)\n",
    "    m._time_AStar.append(duration)\n",
    "\n",
    "    t0= time.time() \n",
    "    path = IDS(m,start)\n",
    "    t1 = time.time()\n",
    "    duration = round(t1 - t0, 4)\n",
    "    m._time_IDS.append(duration)\n",
    "else: #A Star Search\n",
    "    t0= time.time() \n",
    "    path = IDS(m,start)\n",
    "    t1 = time.time()\n",
    "    duration = round(t1 - t0, 4)\n",
    "    m._time_IDS.append(duration)\n",
    "\n",
    "    t0= time.time() \n",
    "    path = aStar(m,start)\n",
    "    t1 = time.time()\n",
    "    duration = round(t1 - t0, 4)\n",
    "    m._time_AStar.append(duration)\n",
    "\n",
    "a=agent(m, start[0], start[1], footprints=True)\n",
    "m.tracePath({a:path}, delay = 100)\n",
    "l=textLabel(m, (algorithm + ' Path Length'),len(path)+1)\n",
    "\n",
    "m.enableChangeGoal(goals, a, algorithm)\n",
    "\n",
    "m.run()"
   ]
  },
  {
   "cell_type": "code",
   "execution_count": 8,
   "metadata": {},
   "outputs": [
    {
     "data": {
      "text/plain": [
       "[0.1566, 0.0838, 0.0558]"
      ]
     },
     "execution_count": 8,
     "metadata": {},
     "output_type": "execute_result"
    }
   ],
   "source": [
    "m._time_AStar\n",
    "m._time_IDS"
   ]
  },
  {
   "cell_type": "markdown",
   "metadata": {},
   "source": [
    "### Plot line chart"
   ]
  },
  {
   "cell_type": "code",
   "execution_count": null,
   "metadata": {},
   "outputs": [],
   "source": [
    "# pip install pandas"
   ]
  },
  {
   "cell_type": "code",
   "execution_count": null,
   "metadata": {},
   "outputs": [],
   "source": [
    "# pip install matplotlib"
   ]
  },
  {
   "cell_type": "code",
   "execution_count": 9,
   "metadata": {},
   "outputs": [],
   "source": [
    "import matplotlib, pandas as pd"
   ]
  },
  {
   "cell_type": "code",
   "execution_count": 13,
   "metadata": {},
   "outputs": [
    {
     "name": "stdout",
     "output_type": "stream",
     "text": [
      "maze50-35\n"
     ]
    }
   ],
   "source": [
    "mazeName = 'maze' + str(m.rows) + '-' + str(m.cols)\n",
    "print(mazeName)\n",
    "df = pd.DataFrame({\n",
    "   'maze10-10': [0.05, 0.07, 0.10],\n",
    "   'maze10-12': [0.06, 0.08, 0.15],\n",
    "    'maze10-14': [0.09, 0.08, 0.15],\n",
    "    'maze10-15': [0.07, 0.10, 0.15],\n",
    "    'maze10-16': [0.08, 0.13, 0.15],\n",
    "   }, index=['goal 1','goal 2', 'goal 3'])"
   ]
  },
  {
   "cell_type": "code",
   "execution_count": 11,
   "metadata": {},
   "outputs": [
    {
     "data": {
      "image/png": "[encoded data removed]",
      "text/plain": [
       "<Figure size 432x288 with 1 Axes>"
      ]
     },
     "metadata": {
      "needs_background": "light"
     },
     "output_type": "display_data"
    }
   ],
   "source": [
    "lines = df.plot.line()"
   ]
  }
 ],
 "metadata": {
  "interpreter": {
   "hash": "1118ab63d06f1c6ba6d83cce418698a460359b4f9ce8365e4a671d59781675a7"
  },
  "kernelspec": {
   "display_name": "Python 3.8.8 ('base')",
   "language": "python",
   "name": "python3"
  },
  "language_info": {
   "codemirror_mode": {
    "name": "ipython",
    "version": 3
   },
   "file_extension": ".py",
   "mimetype": "text/x-python",
   "name": "python",
   "nbconvert_exporter": "python",
   "pygments_lexer": "ipython3",
   "version": "3.10.0"
  },
  "orig_nbformat": 4
 },
 "nbformat": 4,
 "nbformat_minor": 2
}

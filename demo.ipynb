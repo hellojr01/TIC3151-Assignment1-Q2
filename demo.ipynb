{
 "cells": [
  {
   "cell_type": "markdown",
   "metadata": {},
   "source": [
    "<img src=\"tic3151.png\" style=\"height: 70px; width: 200px\" align=left> \n",
    "<img src=\"logo-MMU.png\" style=\"height: 70px; width: 200px\" align=right>"
   ]
  },
  {
   "cell_type": "markdown",
   "metadata": {},
   "source": [
    "### **Question 2: Programming**"
   ]
  },
  {
   "cell_type": "markdown",
   "metadata": {},
   "source": [
    "### **a. A-Star Search**"
   ]
  },
  {
   "cell_type": "markdown",
   "metadata": {},
   "source": [
    "### Install pymaze"
   ]
  },
  {
   "cell_type": "code",
   "execution_count": null,
   "metadata": {},
   "outputs": [],
   "source": [
    "pip install pyamaze"
   ]
  },
  {
   "cell_type": "code",
   "execution_count": 1,
   "metadata": {},
   "outputs": [],
   "source": [
    "from pyamaze import maze,agent,textLabel,COLOR\n",
    "from queue import PriorityQueue"
   ]
  },
  {
   "cell_type": "markdown",
   "metadata": {},
   "source": [
    "### Create 5 maze"
   ]
  },
  {
   "cell_type": "code",
   "execution_count": 4,
   "metadata": {},
   "outputs": [],
   "source": [
    "m=maze(10,10)\n",
    "m.CreateMaze(saveMaze=True)"
   ]
  },
  {
   "cell_type": "code",
   "execution_count": 5,
   "metadata": {},
   "outputs": [],
   "source": [
    "m=maze(10,12)\n",
    "m.CreateMaze(saveMaze=True)"
   ]
  },
  {
   "cell_type": "code",
   "execution_count": 6,
   "metadata": {},
   "outputs": [],
   "source": [
    "m=maze(12,10)\n",
    "m.CreateMaze(saveMaze=True)"
   ]
  },
  {
   "cell_type": "code",
   "execution_count": 7,
   "metadata": {},
   "outputs": [],
   "source": [
    "m=maze(15,15)\n",
    "m.CreateMaze(saveMaze=True)"
   ]
  },
  {
   "cell_type": "code",
   "execution_count": 8,
   "metadata": {},
   "outputs": [],
   "source": [
    "m=maze(11,13)\n",
    "m.CreateMaze(saveMaze=True)"
   ]
  },
  {
   "cell_type": "code",
   "execution_count": 3,
   "metadata": {},
   "outputs": [],
   "source": [
    "# Declaring the heuristic function as manhattan distance\n",
    "\n",
    "def h(cell1,cell2):\n",
    "    x1,y1=cell1\n",
    "    x2,y2=cell2\n",
    "    return abs(x1-x2) + abs(y1-y2)\n",
    "\n",
    "def aStar(m,start,goal):\n",
    "    #start=(m.rows,m.cols)\n",
    "    # inf = infinity\n",
    "    g_score={cell:float('inf') for cell in m.grid} # distance from the start node\n",
    "    print(g_score)\n",
    "    g_score[start]=0\n",
    "    f_score={cell:float('inf') for cell in m.grid} # total cost by summing up the g and h \n",
    "    f_score[start]=h(start,goal)\n",
    "\n",
    "    open=PriorityQueue() # Priority queue is looking for the f which is having the lowest value\n",
    "    open.put((h(start,goal),h(start,goal),start))\n",
    "    aPath={}\n",
    "    \n",
    "    while not open.empty():\n",
    "        currCell=open.get()[2]\n",
    "        if currCell==goal:\n",
    "            break\n",
    "        for d in \"ESNW\":\n",
    "            if m.maze_map[currCell][d]==True:\n",
    "                if d=='E':\n",
    "                    childCell=(currCell[0],currCell[1]+1)\n",
    "                if d=='W':\n",
    "                    childCell=(currCell[0],currCell[1]-1)\n",
    "                if d=='N':\n",
    "                    childCell=(currCell[0]-1,currCell[1])\n",
    "                if d=='S':\n",
    "                    childCell=(currCell[0]+1,currCell[1])\n",
    "\n",
    "                temp_g_score=g_score[currCell]+1\n",
    "                temp_f_score=temp_g_score+h(childCell,goal)\n",
    "\n",
    "                if temp_f_score < f_score[childCell]:\n",
    "                    g_score[childCell]=temp_g_score\n",
    "                    f_score[childCell]=temp_f_score\n",
    "                    open.put((temp_f_score,h(childCell,goal),childCell))\n",
    "                    aPath[childCell]=currCell\n",
    "\n",
    "    \n",
    "    fwdPath={}\n",
    "    cell=goal\n",
    "    \n",
    "    while cell!=start:\n",
    "        fwdPath[aPath[cell]]=cell\n",
    "        cell=aPath[cell]\n",
    "    return fwdPath"
   ]
  },
  {
   "cell_type": "markdown",
   "metadata": {},
   "source": [
    "### Visualize the aStar path"
   ]
  },
  {
   "cell_type": "code",
   "execution_count": null,
   "metadata": {},
   "outputs": [],
   "source": [
    "filename = 'maze10-10.csv'\n",
    "start = (3,3)\n",
    "goal = (7,7)"
   ]
  },
  {
   "cell_type": "code",
   "execution_count": 4,
   "metadata": {},
   "outputs": [
    {
     "name": "stdout",
     "output_type": "stream",
     "text": [
      "{(1, 1): inf, (2, 1): inf, (3, 1): inf, (4, 1): inf, (5, 1): inf, (6, 1): inf, (7, 1): inf, (8, 1): inf, (9, 1): inf, (10, 1): inf, (1, 2): inf, (2, 2): inf, (3, 2): inf, (4, 2): inf, (5, 2): inf, (6, 2): inf, (7, 2): inf, (8, 2): inf, (9, 2): inf, (10, 2): inf, (1, 3): inf, (2, 3): inf, (3, 3): inf, (4, 3): inf, (5, 3): inf, (6, 3): inf, (7, 3): inf, (8, 3): inf, (9, 3): inf, (10, 3): inf, (1, 4): inf, (2, 4): inf, (3, 4): inf, (4, 4): inf, (5, 4): inf, (6, 4): inf, (7, 4): inf, (8, 4): inf, (9, 4): inf, (10, 4): inf, (1, 5): inf, (2, 5): inf, (3, 5): inf, (4, 5): inf, (5, 5): inf, (6, 5): inf, (7, 5): inf, (8, 5): inf, (9, 5): inf, (10, 5): inf, (1, 6): inf, (2, 6): inf, (3, 6): inf, (4, 6): inf, (5, 6): inf, (6, 6): inf, (7, 6): inf, (8, 6): inf, (9, 6): inf, (10, 6): inf, (1, 7): inf, (2, 7): inf, (3, 7): inf, (4, 7): inf, (5, 7): inf, (6, 7): inf, (7, 7): inf, (8, 7): inf, (9, 7): inf, (10, 7): inf, (1, 8): inf, (2, 8): inf, (3, 8): inf, (4, 8): inf, (5, 8): inf, (6, 8): inf, (7, 8): inf, (8, 8): inf, (9, 8): inf, (10, 8): inf, (1, 9): inf, (2, 9): inf, (3, 9): inf, (4, 9): inf, (5, 9): inf, (6, 9): inf, (7, 9): inf, (8, 9): inf, (9, 9): inf, (10, 9): inf, (1, 10): inf, (2, 10): inf, (3, 10): inf, (4, 10): inf, (5, 10): inf, (6, 10): inf, (7, 10): inf, (8, 10): inf, (9, 10): inf, (10, 10): inf, (1, 11): inf, (2, 11): inf, (3, 11): inf, (4, 11): inf, (5, 11): inf, (6, 11): inf, (7, 11): inf, (8, 11): inf, (9, 11): inf, (10, 11): inf, (1, 12): inf, (2, 12): inf, (3, 12): inf, (4, 12): inf, (5, 12): inf, (6, 12): inf, (7, 12): inf, (8, 12): inf, (9, 12): inf, (10, 12): inf}\n"
     ]
    }
   ],
   "source": [
    "m=maze()\n",
    "m.CreateMaze(goal[0], goal[1], loadMaze= filename)\n",
    "path=aStar(m, start, goal)\n",
    "\n",
    "a=agent(m, start[0], start[1], footprints=True)\n",
    "m.tracePath({a:path})\n",
    "l=textLabel(m,'A Star Path Length',len(path)+1)\n",
    "\n",
    "m.run()"
   ]
  },
  {
   "cell_type": "code",
   "execution_count": null,
   "metadata": {},
   "outputs": [],
   "source": [
    "m=maze(12,12)\n",
    "m.CreateMaze()\n",
    "path=aStar(m)\n",
    "\n",
    "a=agent(m,footprints=True)\n",
    "m.tracePath({a:path})\n",
    "l=textLabel(m,'A Star Path Length',len(path)+1)\n",
    "\n",
    "m.run()"
   ]
  },
  {
   "cell_type": "code",
   "execution_count": null,
   "metadata": {},
   "outputs": [],
   "source": [
    "m=maze(10,10)\n",
    "m.CreateMaze()\n",
    "path=aStar(m)\n",
    "\n",
    "a=agent(m,footprints=True)\n",
    "m.tracePath({a:path})\n",
    "l=textLabel(m,'A Star Path Length',len(path)+1)\n",
    "\n",
    "m.run()"
   ]
  },
  {
   "cell_type": "code",
   "execution_count": null,
   "metadata": {},
   "outputs": [],
   "source": [
    "m=maze(15,15)\n",
    "m.CreateMaze()\n",
    "path=aStar(m)\n",
    "\n",
    "a=agent(m,footprints=True)\n",
    "m.tracePath({a:path})\n",
    "l=textLabel(m,'A Star Path Length',len(path)+1)\n",
    "\n",
    "m.run()"
   ]
  },
  {
   "cell_type": "code",
   "execution_count": null,
   "metadata": {},
   "outputs": [],
   "source": [
    "m=maze(12,10)\n",
    "m.CreateMaze()\n",
    "path=aStar(m)\n",
    "\n",
    "a=agent(m,footprints=True)\n",
    "m.tracePath({a:path})\n",
    "l=textLabel(m,'A Star Path Length',len(path)+1)\n",
    "\n",
    "m.run()"
   ]
  }
 ],
 "metadata": {
  "interpreter": {
   "hash": "1118ab63d06f1c6ba6d83cce418698a460359b4f9ce8365e4a671d59781675a7"
  },
  "kernelspec": {
   "display_name": "Python 3.8.8 ('base')",
   "language": "python",
   "name": "python3"
  },
  "language_info": {
   "codemirror_mode": {
    "name": "ipython",
    "version": 3
   },
   "file_extension": ".py",
   "mimetype": "text/x-python",
   "name": "python",
   "nbconvert_exporter": "python",
   "pygments_lexer": "ipython3",
   "version": "3.9.10"
  },
  "orig_nbformat": 4
 },
 "nbformat": 4,
 "nbformat_minor": 2
}

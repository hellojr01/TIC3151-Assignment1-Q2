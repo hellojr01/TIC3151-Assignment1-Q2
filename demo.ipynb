{
 "cells": [
  {
   "cell_type": "markdown",
   "metadata": {},
   "source": [
    "<img src=\"tic3151.png\" style=\"height: 70px; width: 200px\" align=left> \n",
    "<img src=\"logo-MMU.png\" style=\"height: 70px; width: 200px\" align=right>"
   ]
  },
  {
   "cell_type": "markdown",
   "metadata": {},
   "source": [
    "### **Question 2: Programming**"
   ]
  },
  {
   "cell_type": "markdown",
   "metadata": {},
   "source": [
    "### **a. A-Star Search**"
   ]
  },
  {
   "cell_type": "markdown",
   "metadata": {},
   "source": [
    "### Install pymaze"
   ]
  },
  {
   "cell_type": "code",
   "execution_count": null,
   "metadata": {},
   "outputs": [],
   "source": [
    "pip install pyamaze"
   ]
  },
  {
   "cell_type": "code",
   "execution_count": 1,
   "metadata": {},
   "outputs": [],
   "source": [
    "from pyamaze import maze,agent,textLabel,COLOR\n",
    "from queue import PriorityQueue"
   ]
  },
  {
   "cell_type": "markdown",
   "metadata": {},
   "source": [
    "### Create 5 maze"
   ]
  },
  {
   "cell_type": "code",
   "execution_count": 3,
   "metadata": {},
   "outputs": [
    {
     "ename": "KeyboardInterrupt",
     "evalue": "",
     "output_type": "error",
     "traceback": [
      "\u001b[1;31m---------------------------------------------------------------------------\u001b[0m",
      "\u001b[1;31mKeyboardInterrupt\u001b[0m                         Traceback (most recent call last)",
      "\u001b[1;32mc:\\Users\\Lee Jia Rou\\Documents\\Bachelor of Computer Science\\Year 2\\y2s2\\TIC3151 - Artificial Intelligence\\Assignment\\TIC3151-Assignment1-Q2\\demo.ipynb Cell 8'\u001b[0m in \u001b[0;36m<module>\u001b[1;34m\u001b[0m\n\u001b[0;32m      <a href='vscode-notebook-cell:/c%3A/Users/Lee%20Jia%20Rou/Documents/Bachelor%20of%20Computer%20Science/Year%202/y2s2/TIC3151%20-%20Artificial%20Intelligence/Assignment/TIC3151-Assignment1-Q2/demo.ipynb#ch0000007?line=0'>1</a>\u001b[0m m\u001b[39m=\u001b[39mmaze(\u001b[39m10\u001b[39m,\u001b[39m10\u001b[39m)\n\u001b[1;32m----> <a href='vscode-notebook-cell:/c%3A/Users/Lee%20Jia%20Rou/Documents/Bachelor%20of%20Computer%20Science/Year%202/y2s2/TIC3151%20-%20Artificial%20Intelligence/Assignment/TIC3151-Assignment1-Q2/demo.ipynb#ch0000007?line=1'>2</a>\u001b[0m m\u001b[39m.\u001b[39;49mCreateMaze(saveMaze\u001b[39m=\u001b[39;49m\u001b[39mTrue\u001b[39;49;00m)\n",
      "File \u001b[1;32m~\\AppData\\Local\\Programs\\Python\\Python310\\lib\\site-packages\\pyamaze\\pyamaze.py:599\u001b[0m, in \u001b[0;36mmaze.CreateMaze\u001b[1;34m(self, x, y, pattern, loopPercent, saveMaze, loadMaze, theme)\u001b[0m\n\u001b[0;32m    <a href='file:///~/AppData/Local/Programs/Python/Python310/lib/site-packages/pyamaze/pyamaze.py?line=596'>597</a>\u001b[0m             \u001b[39mself\u001b[39m\u001b[39m.\u001b[39mmaze_map[\u001b[39mtuple\u001b[39m(c)]\u001b[39m=\u001b[39m{\u001b[39m'\u001b[39m\u001b[39mE\u001b[39m\u001b[39m'\u001b[39m:\u001b[39mint\u001b[39m(i[\u001b[39m1\u001b[39m]),\u001b[39m'\u001b[39m\u001b[39mW\u001b[39m\u001b[39m'\u001b[39m:\u001b[39mint\u001b[39m(i[\u001b[39m2\u001b[39m]),\u001b[39m'\u001b[39m\u001b[39mN\u001b[39m\u001b[39m'\u001b[39m:\u001b[39mint\u001b[39m(i[\u001b[39m3\u001b[39m]),\u001b[39m'\u001b[39m\u001b[39mS\u001b[39m\u001b[39m'\u001b[39m:\u001b[39mint\u001b[39m(i[\u001b[39m4\u001b[39m])}\n\u001b[0;32m    <a href='file:///~/AppData/Local/Programs/Python/Python310/lib/site-packages/pyamaze/pyamaze.py?line=597'>598</a>\u001b[0m     \u001b[39mself\u001b[39m\u001b[39m.\u001b[39mpath\u001b[39m=\u001b[39mBFS((\u001b[39mself\u001b[39m\u001b[39m.\u001b[39mrows,\u001b[39mself\u001b[39m\u001b[39m.\u001b[39mcols))\n\u001b[1;32m--> <a href='file:///~/AppData/Local/Programs/Python/Python310/lib/site-packages/pyamaze/pyamaze.py?line=598'>599</a>\u001b[0m \u001b[39mself\u001b[39;49m\u001b[39m.\u001b[39;49m_drawMaze(\u001b[39mself\u001b[39;49m\u001b[39m.\u001b[39;49mtheme)\n\u001b[0;32m    <a href='file:///~/AppData/Local/Programs/Python/Python310/lib/site-packages/pyamaze/pyamaze.py?line=599'>600</a>\u001b[0m agent(\u001b[39mself\u001b[39m,\u001b[39m*\u001b[39m\u001b[39mself\u001b[39m\u001b[39m.\u001b[39m_goal,shape\u001b[39m=\u001b[39m\u001b[39m'\u001b[39m\u001b[39msquare\u001b[39m\u001b[39m'\u001b[39m,filled\u001b[39m=\u001b[39m\u001b[39mTrue\u001b[39;00m,color\u001b[39m=\u001b[39mCOLOR\u001b[39m.\u001b[39mgreen)\n\u001b[0;32m    <a href='file:///~/AppData/Local/Programs/Python/Python310/lib/site-packages/pyamaze/pyamaze.py?line=600'>601</a>\u001b[0m \u001b[39mif\u001b[39;00m saveMaze:\n",
      "File \u001b[1;32m~\\AppData\\Local\\Programs\\Python\\Python310\\lib\\site-packages\\pyamaze\\pyamaze.py:621\u001b[0m, in \u001b[0;36mmaze._drawMaze\u001b[1;34m(self, theme)\u001b[0m\n\u001b[0;32m    <a href='file:///~/AppData/Local/Programs/Python/Python310/lib/site-packages/pyamaze/pyamaze.py?line=615'>616</a>\u001b[0m \u001b[39m'''\u001b[39;00m\n\u001b[0;32m    <a href='file:///~/AppData/Local/Programs/Python/Python310/lib/site-packages/pyamaze/pyamaze.py?line=616'>617</a>\u001b[0m \u001b[39mCreation of Tkinter window and maze lines\u001b[39;00m\n\u001b[0;32m    <a href='file:///~/AppData/Local/Programs/Python/Python310/lib/site-packages/pyamaze/pyamaze.py?line=617'>618</a>\u001b[0m \u001b[39m'''\u001b[39;00m\n\u001b[0;32m    <a href='file:///~/AppData/Local/Programs/Python/Python310/lib/site-packages/pyamaze/pyamaze.py?line=619'>620</a>\u001b[0m \u001b[39mself\u001b[39m\u001b[39m.\u001b[39m_LabWidth\u001b[39m=\u001b[39m\u001b[39m26\u001b[39m \u001b[39m# Space from the top for Labels\u001b[39;00m\n\u001b[1;32m--> <a href='file:///~/AppData/Local/Programs/Python/Python310/lib/site-packages/pyamaze/pyamaze.py?line=620'>621</a>\u001b[0m \u001b[39mself\u001b[39m\u001b[39m.\u001b[39m_win\u001b[39m=\u001b[39mTk()\n\u001b[0;32m    <a href='file:///~/AppData/Local/Programs/Python/Python310/lib/site-packages/pyamaze/pyamaze.py?line=621'>622</a>\u001b[0m \u001b[39mself\u001b[39m\u001b[39m.\u001b[39m_win\u001b[39m.\u001b[39mstate(\u001b[39m'\u001b[39m\u001b[39mzoomed\u001b[39m\u001b[39m'\u001b[39m)\n\u001b[0;32m    <a href='file:///~/AppData/Local/Programs/Python/Python310/lib/site-packages/pyamaze/pyamaze.py?line=622'>623</a>\u001b[0m \u001b[39mself\u001b[39m\u001b[39m.\u001b[39m_win\u001b[39m.\u001b[39mtitle(\u001b[39m'\u001b[39m\u001b[39mPYTHON MAZE WORLD by Learning Orbis\u001b[39m\u001b[39m'\u001b[39m)\n",
      "File \u001b[1;32m~\\AppData\\Local\\Programs\\Python\\Python310\\lib\\tkinter\\__init__.py:2301\u001b[0m, in \u001b[0;36mTk.__init__\u001b[1;34m(self, screenName, baseName, className, useTk, sync, use)\u001b[0m\n\u001b[0;32m   <a href='file:///~/AppData/Local/Programs/Python/Python310/lib/tkinter/__init__.py?line=2298'>2299</a>\u001b[0m \u001b[39mself\u001b[39m\u001b[39m.\u001b[39mtk \u001b[39m=\u001b[39m _tkinter\u001b[39m.\u001b[39mcreate(screenName, baseName, className, interactive, wantobjects, useTk, sync, use)\n\u001b[0;32m   <a href='file:///~/AppData/Local/Programs/Python/Python310/lib/tkinter/__init__.py?line=2299'>2300</a>\u001b[0m \u001b[39mif\u001b[39;00m useTk:\n\u001b[1;32m-> <a href='file:///~/AppData/Local/Programs/Python/Python310/lib/tkinter/__init__.py?line=2300'>2301</a>\u001b[0m     \u001b[39mself\u001b[39;49m\u001b[39m.\u001b[39;49m_loadtk()\n\u001b[0;32m   <a href='file:///~/AppData/Local/Programs/Python/Python310/lib/tkinter/__init__.py?line=2301'>2302</a>\u001b[0m \u001b[39mif\u001b[39;00m \u001b[39mnot\u001b[39;00m sys\u001b[39m.\u001b[39mflags\u001b[39m.\u001b[39mignore_environment:\n\u001b[0;32m   <a href='file:///~/AppData/Local/Programs/Python/Python310/lib/tkinter/__init__.py?line=2302'>2303</a>\u001b[0m     \u001b[39m# Issue #16248: Honor the -E flag to avoid code injection.\u001b[39;00m\n\u001b[0;32m   <a href='file:///~/AppData/Local/Programs/Python/Python310/lib/tkinter/__init__.py?line=2303'>2304</a>\u001b[0m     \u001b[39mself\u001b[39m\u001b[39m.\u001b[39mreadprofile(baseName, className)\n",
      "File \u001b[1;32m~\\AppData\\Local\\Programs\\Python\\Python310\\lib\\tkinter\\__init__.py:2311\u001b[0m, in \u001b[0;36mTk._loadtk\u001b[1;34m(self)\u001b[0m\n\u001b[0;32m   <a href='file:///~/AppData/Local/Programs/Python/Python310/lib/tkinter/__init__.py?line=2307'>2308</a>\u001b[0m         \u001b[39mself\u001b[39m\u001b[39m.\u001b[39mtk\u001b[39m.\u001b[39mloadtk()\n\u001b[0;32m   <a href='file:///~/AppData/Local/Programs/Python/Python310/lib/tkinter/__init__.py?line=2308'>2309</a>\u001b[0m         \u001b[39mself\u001b[39m\u001b[39m.\u001b[39m_loadtk()\n\u001b[1;32m-> <a href='file:///~/AppData/Local/Programs/Python/Python310/lib/tkinter/__init__.py?line=2310'>2311</a>\u001b[0m \u001b[39mdef\u001b[39;00m \u001b[39m_loadtk\u001b[39m(\u001b[39mself\u001b[39m):\n\u001b[0;32m   <a href='file:///~/AppData/Local/Programs/Python/Python310/lib/tkinter/__init__.py?line=2311'>2312</a>\u001b[0m     \u001b[39mself\u001b[39m\u001b[39m.\u001b[39m_tkloaded \u001b[39m=\u001b[39m \u001b[39mTrue\u001b[39;00m\n\u001b[0;32m   <a href='file:///~/AppData/Local/Programs/Python/Python310/lib/tkinter/__init__.py?line=2312'>2313</a>\u001b[0m     \u001b[39mglobal\u001b[39;00m _default_root\n",
      "\u001b[1;31mKeyboardInterrupt\u001b[0m: "
     ]
    }
   ],
   "source": [
    "m=maze(10,10)\n",
    "m.CreateMaze(saveMaze=True)"
   ]
  },
  {
   "cell_type": "code",
   "execution_count": 5,
   "metadata": {},
   "outputs": [],
   "source": [
    "m=maze(10,12)\n",
    "m.CreateMaze(saveMaze=True)"
   ]
  },
  {
   "cell_type": "code",
   "execution_count": 6,
   "metadata": {},
   "outputs": [],
   "source": [
    "m=maze(12,10)\n",
    "m.CreateMaze(saveMaze=True)"
   ]
  },
  {
   "cell_type": "code",
   "execution_count": 7,
   "metadata": {},
   "outputs": [],
   "source": [
    "m=maze(15,15)\n",
    "m.CreateMaze(saveMaze=True)"
   ]
  },
  {
   "cell_type": "code",
   "execution_count": 8,
   "metadata": {},
   "outputs": [],
   "source": [
    "m=maze(11,13)\n",
    "m.CreateMaze(saveMaze=True)"
   ]
  },
  {
   "cell_type": "code",
   "execution_count": 2,
   "metadata": {},
   "outputs": [],
   "source": [
    "# Declaring the heuristic function as manhattan distance\n",
    "def h(cell1,cell2):\n",
    "    x1,y1=cell1\n",
    "    x2,y2=cell2\n",
    "    return abs(x1-x2) + abs(y1-y2)\n",
    "\n",
    "def aStar(m,start,goal):\n",
    "    # start=(m.rows,m.cols)\n",
    "    # inf = infinity\n",
    "    g_score={cell:float('inf') for cell in m.grid} # distance from the start node\n",
    "    print(g_score)\n",
    "    g_score[start]=0\n",
    "    f_score={cell:float('inf') for cell in m.grid} # total cost by summing up the g and h \n",
    "    f_score[start]=h(start,goal)\n",
    "\n",
    "    open=PriorityQueue() # Priority queue is looking for the f which is having the lowest value\n",
    "    open.put((h(start,goal),h(start,goal),start))\n",
    "    aPath={}\n",
    "    \n",
    "    while not open.empty():\n",
    "        currCell=open.get()[2]\n",
    "        if currCell==goal:\n",
    "            break\n",
    "        for d in \"ESNW\":\n",
    "            if m.maze_map[currCell][d]==True:\n",
    "                if d=='E':\n",
    "                    childCell=(currCell[0],currCell[1]+1)\n",
    "                if d=='W':\n",
    "                    childCell=(currCell[0],currCell[1]-1)\n",
    "                if d=='N':\n",
    "                    childCell=(currCell[0]-1,currCell[1])\n",
    "                if d=='S':\n",
    "                    childCell=(currCell[0]+1,currCell[1])\n",
    "\n",
    "                temp_g_score=g_score[currCell]+1\n",
    "                temp_f_score=temp_g_score+h(childCell,goal)\n",
    "\n",
    "                if temp_f_score < f_score[childCell]:\n",
    "                    g_score[childCell]=temp_g_score\n",
    "                    f_score[childCell]=temp_f_score\n",
    "                    open.put((temp_f_score,h(childCell,goal),childCell))\n",
    "                    aPath[childCell]=currCell\n",
    "\n",
    "    \n",
    "    fwdPath={}\n",
    "    cell=goal\n",
    "    \n",
    "    while cell!=start:\n",
    "        fwdPath[aPath[cell]]=cell\n",
    "        cell=aPath[cell]\n",
    "    return fwdPath"
   ]
  },
  {
   "cell_type": "markdown",
   "metadata": {},
   "source": [
    "### **Iterative Deepening Search**"
   ]
  },
  {
   "cell_type": "code",
   "execution_count": 3,
   "metadata": {},
   "outputs": [],
   "source": [
    "def IDS(m, start):\n",
    "    depth_count = 0\n",
    "    frontier = [(depth_count, start)]\n",
    "    explored = [start]\n",
    "    \n",
    "    dfsPath = {}\n",
    "    while len(frontier) > 0:\n",
    "        frontier.sort(key=lambda x: x[0])\n",
    "        currCell = frontier.pop(0)\n",
    "        cell = currCell[1]\n",
    "\n",
    "        depth_count = currCell[0] + 1\n",
    "\n",
    "        # explored.append(cell)\n",
    "        \n",
    "        # Finding neighbor cells\n",
    "        for d in \"EWSN\":\n",
    "            # A cell has 4 direction East, West, North, and South\n",
    "            # If the direction has a wall prevent agent to move\n",
    "            # Then the value of that direction is False, else True\n",
    "            if m.maze_map[cell][d] == True:\n",
    "                if d==\"N\":\n",
    "                    childCell = (cell[0]-1, cell[1])\n",
    "                elif d==\"S\":\n",
    "                    childCell = (cell[0]+1, cell[1])\n",
    "                elif d==\"W\":\n",
    "                    childCell = (cell[0], cell[1]-1)\n",
    "                elif d==\"E\":\n",
    "                    # next cell\n",
    "                    # coordinate (row,column)\n",
    "                    childCell = (cell[0], cell[1]+1)\n",
    "\n",
    "                # if the location has been explored                \n",
    "                if childCell in explored:\n",
    "                    continue\n",
    "                explored.append(childCell)\n",
    "\n",
    "                frontier.append((depth_count, childCell))\n",
    "                # Set parent of this neighbor to the current cell\n",
    "                dfsPath[childCell] = cell\n",
    "\n",
    "                if childCell == m._goal:\n",
    "                    break\n",
    "\n",
    "    # Trace back from the goal to the START cell\n",
    "    fwdPath = {}\n",
    "    while cell != start:\n",
    "        fwdPath[dfsPath[cell]] = cell\n",
    "        cell = dfsPath[cell]\n",
    "\n",
    "    return fwdPath"
   ]
  },
  {
   "cell_type": "markdown",
   "metadata": {},
   "source": [
    "### Visualize the aStar path"
   ]
  },
  {
   "cell_type": "code",
   "execution_count": 4,
   "metadata": {},
   "outputs": [],
   "source": [
    "filename = 'maze10-10.csv'\n",
    "start = (1,1)\n",
    "goal = (10,10)"
   ]
  },
  {
   "cell_type": "code",
   "execution_count": null,
   "metadata": {},
   "outputs": [],
   "source": [
    "filename = 'maze12-10.csv'\n",
    "start = (5,5)\n",
    "goal = (9,9)"
   ]
  },
  {
   "cell_type": "code",
   "execution_count": null,
   "metadata": {},
   "outputs": [],
   "source": [
    "filename = 'maze11-13.csv'\n",
    "start = (7,7)\n",
    "goal = (11,11)"
   ]
  },
  {
   "cell_type": "code",
   "execution_count": null,
   "metadata": {},
   "outputs": [],
   "source": [
    "filename = 'maze11-13.csv'\n",
    "start = (7,7)\n",
    "goal = (11,11)"
   ]
  },
  {
   "cell_type": "code",
   "execution_count": null,
   "metadata": {},
   "outputs": [],
   "source": [
    "filename = 'maze11-13.csv'\n",
    "start = (7,7)\n",
    "goal = (11,11)"
   ]
  },
  {
   "cell_type": "code",
   "execution_count": 5,
   "metadata": {},
   "outputs": [],
   "source": [
    "m=maze()\n",
    "m.CreateMaze(goal[0], goal[1], loadMaze= filename)\n",
    "path=IDS(m, start)\n",
    "\n",
    "a=agent(m, start[0], start[1], footprints=True)\n",
    "m.tracePath({a:path})\n",
    "l=textLabel(m,'IDS Path Length',len(path)+1)\n",
    "\n",
    "m.run()"
   ]
  },
  {
   "cell_type": "code",
   "execution_count": 6,
   "metadata": {},
   "outputs": [
    {
     "name": "stdout",
     "output_type": "stream",
     "text": [
      "{(1, 1): inf, (2, 1): inf, (3, 1): inf, (4, 1): inf, (5, 1): inf, (6, 1): inf, (7, 1): inf, (8, 1): inf, (9, 1): inf, (10, 1): inf, (1, 2): inf, (2, 2): inf, (3, 2): inf, (4, 2): inf, (5, 2): inf, (6, 2): inf, (7, 2): inf, (8, 2): inf, (9, 2): inf, (10, 2): inf, (1, 3): inf, (2, 3): inf, (3, 3): inf, (4, 3): inf, (5, 3): inf, (6, 3): inf, (7, 3): inf, (8, 3): inf, (9, 3): inf, (10, 3): inf, (1, 4): inf, (2, 4): inf, (3, 4): inf, (4, 4): inf, (5, 4): inf, (6, 4): inf, (7, 4): inf, (8, 4): inf, (9, 4): inf, (10, 4): inf, (1, 5): inf, (2, 5): inf, (3, 5): inf, (4, 5): inf, (5, 5): inf, (6, 5): inf, (7, 5): inf, (8, 5): inf, (9, 5): inf, (10, 5): inf, (1, 6): inf, (2, 6): inf, (3, 6): inf, (4, 6): inf, (5, 6): inf, (6, 6): inf, (7, 6): inf, (8, 6): inf, (9, 6): inf, (10, 6): inf, (1, 7): inf, (2, 7): inf, (3, 7): inf, (4, 7): inf, (5, 7): inf, (6, 7): inf, (7, 7): inf, (8, 7): inf, (9, 7): inf, (10, 7): inf, (1, 8): inf, (2, 8): inf, (3, 8): inf, (4, 8): inf, (5, 8): inf, (6, 8): inf, (7, 8): inf, (8, 8): inf, (9, 8): inf, (10, 8): inf, (1, 9): inf, (2, 9): inf, (3, 9): inf, (4, 9): inf, (5, 9): inf, (6, 9): inf, (7, 9): inf, (8, 9): inf, (9, 9): inf, (10, 9): inf, (1, 10): inf, (2, 10): inf, (3, 10): inf, (4, 10): inf, (5, 10): inf, (6, 10): inf, (7, 10): inf, (8, 10): inf, (9, 10): inf, (10, 10): inf}\n"
     ]
    }
   ],
   "source": [
    "m=maze()\n",
    "m.CreateMaze(goal[0], goal[1], loadMaze= filename)\n",
    "path=aStar(m, start, goal)\n",
    "\n",
    "a=agent(m, start[0], start[1], footprints=True)\n",
    "m.tracePath({a:path})\n",
    "l=textLabel(m,'A Star Path Length',len(path)+1)\n",
    "\n",
    "m.run()"
   ]
  },
  {
   "cell_type": "code",
   "execution_count": null,
   "metadata": {},
   "outputs": [],
   "source": [
    "m=maze(12,12)\n",
    "m.CreateMaze()\n",
    "path=aStar(m)\n",
    "\n",
    "a=agent(m,footprints=True)\n",
    "m.tracePath({a:path})\n",
    "l=textLabel(m,'A Star Path Length',len(path)+1)\n",
    "\n",
    "m.run()"
   ]
  },
  {
   "cell_type": "code",
   "execution_count": null,
   "metadata": {},
   "outputs": [],
   "source": [
    "m=maze(10,10)\n",
    "m.CreateMaze()\n",
    "path=aStar(m)\n",
    "\n",
    "a=agent(m,footprints=True)\n",
    "m.tracePath({a:path})\n",
    "l=textLabel(m,'A Star Path Length',len(path)+1)\n",
    "\n",
    "m.run()"
   ]
  },
  {
   "cell_type": "code",
   "execution_count": null,
   "metadata": {},
   "outputs": [],
   "source": [
    "m=maze(15,15)\n",
    "m.CreateMaze()\n",
    "path=aStar(m)\n",
    "\n",
    "a=agent(m,footprints=True)\n",
    "m.tracePath({a:path})\n",
    "l=textLabel(m,'A Star Path Length',len(path)+1)\n",
    "\n",
    "m.run()"
   ]
  },
  {
   "cell_type": "code",
   "execution_count": null,
   "metadata": {},
   "outputs": [],
   "source": [
    "m=maze(12,10)\n",
    "m.CreateMaze()\n",
    "path=aStar(m)\n",
    "\n",
    "a=agent(m,footprints=True)\n",
    "m.tracePath({a:path})\n",
    "l=textLabel(m,'A Star Path Length',len(path)+1)\n",
    "\n",
    "m.run()"
   ]
  }
 ],
 "metadata": {
  "interpreter": {
   "hash": "1118ab63d06f1c6ba6d83cce418698a460359b4f9ce8365e4a671d59781675a7"
  },
  "kernelspec": {
   "display_name": "Python 3.8.8 ('base')",
   "language": "python",
   "name": "python3"
  },
  "language_info": {
   "codemirror_mode": {
    "name": "ipython",
    "version": 3
   },
   "file_extension": ".py",
   "mimetype": "text/x-python",
   "name": "python",
   "nbconvert_exporter": "python",
   "pygments_lexer": "ipython3",
   "version": "3.10.0"
  },
  "orig_nbformat": 4
 },
 "nbformat": 4,
 "nbformat_minor": 2
}

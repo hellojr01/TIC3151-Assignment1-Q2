{
 "cells": [
  {
   "cell_type": "markdown",
   "metadata": {},
   "source": [
    "<img src=\"tic3151.png\" style=\"height: 70px; width: 200px\" align=left> \n",
    "<img src=\"logo-MMU.png\" style=\"height: 70px; width: 200px\" align=right>"
   ]
  },
  {
   "cell_type": "markdown",
   "metadata": {},
   "source": [
    "### **Question 2: Programming**"
   ]
  },
  {
   "cell_type": "markdown",
   "metadata": {},
   "source": [
    "### **a. A-Star Search**"
   ]
  },
  {
   "cell_type": "markdown",
   "metadata": {},
   "source": [
    "### Install pymaze"
   ]
  },
  {
   "cell_type": "code",
   "execution_count": null,
   "metadata": {},
   "outputs": [],
   "source": [
    "#pip install pyamaze"
   ]
  },
  {
   "cell_type": "code",
   "execution_count": null,
   "metadata": {},
   "outputs": [],
   "source": [
    "from pyamaze import maze,agent,textLabel,COLOR\n",
    "from queue import PriorityQueue"
   ]
  },
  {
   "cell_type": "markdown",
   "metadata": {},
   "source": [
    "### Maze generation"
   ]
  },
  {
   "cell_type": "code",
   "execution_count": null,
   "metadata": {},
   "outputs": [],
   "source": [
    "#m=maze(10,10)\n",
    "#m.CreateMaze(saveMaze=True)"
   ]
  },
  {
   "cell_type": "code",
   "execution_count": null,
   "metadata": {},
   "outputs": [],
   "source": [
    "#m=maze(10,15)\n",
    "#m.CreateMaze(saveMaze=True, loopPercent = 50)"
   ]
  },
  {
   "cell_type": "code",
   "execution_count": null,
   "metadata": {},
   "outputs": [],
   "source": [
    "#m=maze(15,10)\n",
    "#m.CreateMaze(saveMaze=True, loopPercent= 30)"
   ]
  },
  {
   "cell_type": "code",
   "execution_count": null,
   "metadata": {},
   "outputs": [],
   "source": [
    "#m=maze(15,15)\n",
    "#m.CreateMaze(saveMaze=True, loopPercent= 40)"
   ]
  },
  {
   "cell_type": "code",
   "execution_count": null,
   "metadata": {},
   "outputs": [],
   "source": [
    "#m=maze(20,20)\n",
    "#m.CreateMaze(saveMaze=True, loopPercent=10)"
   ]
  },
  {
   "cell_type": "markdown",
   "metadata": {},
   "source": [
    "### **A\\* Search**"
   ]
  },
  {
   "cell_type": "code",
   "execution_count": null,
   "metadata": {},
   "outputs": [],
   "source": [
    "# Declaring the heuristic function as manhattan distance\n",
    "def h(cell1,cell2):\n",
    "    x1,y1=cell1\n",
    "    x2,y2=cell2\n",
    "    return abs(x1-x2) + abs(y1-y2)\n",
    "\n",
    "def aStar(m,start):\n",
    "    # inf = infinity\n",
    "    g_score={cell:float('inf') for cell in m.grid} # distance from the start node\n",
    "    #print(g_score)\n",
    "    g_score[start]=0\n",
    "    f_score={cell:float('inf') for cell in m.grid} # total cost by summing up the g and h \n",
    "    f_score[start]=h(start,m._goal)\n",
    "\n",
    "    open=PriorityQueue() # Priority queue is looking for the f which is having the lowest value\n",
    "    open.put((h(start,m._goal),h(start,m._goal),start))\n",
    "    aPath={}\n",
    "    \n",
    "    while not open.empty():\n",
    "        currCell=open.get()[2]\n",
    "        if currCell==m._goal:\n",
    "            break\n",
    "        for d in \"ESNW\":\n",
    "            if m.maze_map[currCell][d]==True:\n",
    "                if d=='E':\n",
    "                    childCell=(currCell[0],currCell[1]+1)\n",
    "                if d=='W':\n",
    "                    childCell=(currCell[0],currCell[1]-1)\n",
    "                if d=='N':\n",
    "                    childCell=(currCell[0]-1,currCell[1])\n",
    "                if d=='S':\n",
    "                    childCell=(currCell[0]+1,currCell[1])\n",
    "\n",
    "                temp_g_score=g_score[currCell]+1\n",
    "                temp_f_score=temp_g_score+h(childCell,m._goal)\n",
    "\n",
    "                if temp_f_score < f_score[childCell]:\n",
    "                    g_score[childCell]=temp_g_score\n",
    "                    f_score[childCell]=temp_f_score\n",
    "                    open.put((temp_f_score,h(childCell,m._goal),childCell))\n",
    "                    aPath[childCell]=currCell\n",
    "\n",
    "    \n",
    "    fwdPath={}\n",
    "    cell=m._goal\n",
    "    \n",
    "    while cell!=start:\n",
    "        fwdPath[aPath[cell]]=cell\n",
    "        cell=aPath[cell]\n",
    "    return fwdPath"
   ]
  },
  {
   "cell_type": "markdown",
   "metadata": {},
   "source": [
    "### **Iterative Deepening Search**"
   ]
  },
  {
   "cell_type": "code",
   "execution_count": null,
   "metadata": {},
   "outputs": [],
   "source": [
    "def IDS(m, start):\n",
    "    depth_count = 0\n",
    "    frontier = [(depth_count, start)]\n",
    "    explored = [start]\n",
    "    \n",
    "    dfsPath = {}\n",
    "    while len(frontier) > 0:\n",
    "        frontier.sort(key=lambda x: x[0])\n",
    "        currCell = frontier.pop(0)\n",
    "        cell = currCell[1]\n",
    "\n",
    "        depth_count = currCell[0] + 1\n",
    "\n",
    "        # explored.append(cell)\n",
    "\n",
    "        if cell == m._goal:\n",
    "            break\n",
    "        \n",
    "        # Finding neighbor cells\n",
    "        for d in \"EWSN\":\n",
    "            # A cell has 4 direction East, West, North, and South\n",
    "            # If the direction has a wall prevent agent to move\n",
    "            # Then the value of that direction is False, else True\n",
    "            if m.maze_map[cell][d] == True:\n",
    "                if d==\"N\":\n",
    "                    childCell = (cell[0]-1, cell[1])\n",
    "                elif d==\"S\":\n",
    "                    childCell = (cell[0]+1, cell[1])\n",
    "                elif d==\"W\":\n",
    "                    childCell = (cell[0], cell[1]-1)\n",
    "                elif d==\"E\":\n",
    "                    childCell = (cell[0], cell[1]+1)\n",
    "\n",
    "                # if the location has been explored                \n",
    "                if childCell in explored:\n",
    "                    continue\n",
    "                explored.append(childCell)\n",
    "\n",
    "                frontier.append((depth_count, childCell))\n",
    "                # Set parent of this neighbor to the current cell\n",
    "                dfsPath[childCell] = cell \n",
    "\n",
    "    # Trace back from the goal to the START cell\n",
    "    fwdPath = {}\n",
    "    while cell != start:\n",
    "        fwdPath[dfsPath[cell]] = cell\n",
    "        cell = dfsPath[cell]\n",
    "\n",
    "    return fwdPath"
   ]
  },
  {
   "cell_type": "markdown",
   "metadata": {},
   "source": [
    "### Select maze\n",
    "Run 1 maze initialization out of the 5 mazes below and proceed to next section"
   ]
  },
  {
   "cell_type": "code",
   "execution_count": null,
   "metadata": {},
   "outputs": [],
   "source": [
    "filename = 'maze10-10.csv'\n",
    "start = (10,10)\n",
    "goals = [(1,1), (10,1), (1,10)]"
   ]
  },
  {
   "cell_type": "code",
   "execution_count": null,
   "metadata": {},
   "outputs": [],
   "source": [
    "filename = 'maze15-10.csv'\n",
    "start = (1,1)\n",
    "goals = [(15,10), (5,10), (15,1)]"
   ]
  },
  {
   "cell_type": "code",
   "execution_count": null,
   "metadata": {},
   "outputs": [],
   "source": [
    "filename = 'maze10-15.csv'\n",
    "start = (6,6)\n",
    "goals = [(10,15), (1,1), (1,15)]"
   ]
  },
  {
   "cell_type": "code",
   "execution_count": null,
   "metadata": {},
   "outputs": [],
   "source": [
    "filename = 'maze15-15.csv'\n",
    "start = (3,3)\n",
    "goals = [(11,11), (3,6), (13,3)]"
   ]
  },
  {
   "cell_type": "code",
   "execution_count": null,
   "metadata": {},
   "outputs": [],
   "source": [
    "filename = 'maze20-20.csv'\n",
    "start = (10,10)\n",
    "goals = [(20,20), (8,18), (20,1)]"
   ]
  },
  {
   "cell_type": "markdown",
   "metadata": {},
   "source": [
    "### Select algorithm\n",
    "Select 1 algorithm out of the 2 and run the maze\n"
   ]
  },
  {
   "cell_type": "code",
   "execution_count": null,
   "metadata": {},
   "outputs": [],
   "source": [
    "algorithm = 'Iterative Deepening Search'"
   ]
  },
  {
   "cell_type": "code",
   "execution_count": null,
   "metadata": {},
   "outputs": [],
   "source": [
    "algorithm = 'A Star Search'"
   ]
  },
  {
   "cell_type": "markdown",
   "metadata": {},
   "source": [
    "### Run Maze\n",
    "*Instruction:\n",
    "In order to change the goal during run time, hit \"Spacebar\""
   ]
  },
  {
   "cell_type": "code",
   "execution_count": null,
   "metadata": {},
   "outputs": [],
   "source": [
    "m=maze()\n",
    "goal = goals[0]\n",
    "m.CreateMaze(goal[0], goal[1], loadMaze= filename)\n",
    "\n",
    "if algorithm == 'Iterative Deepening Search':\n",
    "    path = IDS(m,start)\n",
    "else: #A Star Search\n",
    "    path = aStar(m,start)\n",
    "\n",
    "a=agent(m, start[0], start[1], footprints=True)\n",
    "m.tracePath({a:path}, delay = 100)\n",
    "l=textLabel(m, (algorithm + ' Path Length'),len(path)+1)\n",
    "\n",
    "m.enableChangeGoal(goals, a, algorithm)\n",
    "\n",
    "m.run()"
   ]
  }
 ],
 "metadata": {
  "interpreter": {
   "hash": "1118ab63d06f1c6ba6d83cce418698a460359b4f9ce8365e4a671d59781675a7"
  },
  "kernelspec": {
   "display_name": "Python 3.8.8 ('base')",
   "language": "python",
   "name": "python3"
  },
  "language_info": {
   "codemirror_mode": {
    "name": "ipython",
    "version": 3
   },
   "file_extension": ".py",
   "mimetype": "text/x-python",
   "name": "python",
   "nbconvert_exporter": "python",
   "pygments_lexer": "ipython3",
   "version": "3.9.10"
  },
  "orig_nbformat": 4
 },
 "nbformat": 4,
 "nbformat_minor": 2
}

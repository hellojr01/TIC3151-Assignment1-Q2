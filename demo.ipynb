{
 "cells": [
  {
   "cell_type": "markdown",
   "metadata": {},
   "source": [
    "<img src=\"tic3151.png\" style=\"height: 70px; width: 200px\" align=left> \n",
    "<img src=\"logo-MMU.png\" style=\"height: 70px; width: 200px\" align=right>"
   ]
  },
  {
   "cell_type": "markdown",
   "metadata": {},
   "source": [
    "### **Question 2: Programming**"
   ]
  },
  {
   "cell_type": "markdown",
   "metadata": {},
   "source": [
    "Install pyamaze"
   ]
  },
  {
   "cell_type": "code",
   "execution_count": null,
   "metadata": {},
   "outputs": [],
   "source": [
    "#pip install pyamaze"
   ]
  },
  {
   "cell_type": "code",
   "execution_count": null,
   "metadata": {},
   "outputs": [],
   "source": [
    "from pyamaze import maze,agent,textLabel,COLOR\n",
    "from queue import PriorityQueue"
   ]
  },
  {
   "cell_type": "markdown",
   "metadata": {},
   "source": [
    "### Maze generation"
   ]
  },
  {
   "cell_type": "code",
   "execution_count": null,
   "metadata": {},
   "outputs": [],
   "source": [
    "#m=maze(30,30)\n",
    "#m.CreateMaze(saveMaze=True, loopPercent= 40)"
   ]
  },
  {
   "cell_type": "code",
   "execution_count": null,
   "metadata": {},
   "outputs": [],
   "source": [
    "#m=maze(35,50)\n",
    "#m.CreateMaze(saveMaze=True, loopPercent = 50)"
   ]
  },
  {
   "cell_type": "code",
   "execution_count": null,
   "metadata": {},
   "outputs": [],
   "source": [
    "#m=maze(40,40)\n",
    "#m.CreateMaze(saveMaze=True)"
   ]
  },
  {
   "cell_type": "code",
   "execution_count": null,
   "metadata": {},
   "outputs": [],
   "source": [
    "#m=maze(50,35)\n",
    "#m.CreateMaze(saveMaze=True, loopPercent= 30)"
   ]
  },
  {
   "cell_type": "code",
   "execution_count": null,
   "metadata": {},
   "outputs": [],
   "source": [
    "#m=maze(60,60)\n",
    "#m.CreateMaze(saveMaze=True, loopPercent=10)"
   ]
  },
  {
   "cell_type": "markdown",
   "metadata": {},
   "source": [
    "### **A\\* Search**"
   ]
  },
  {
   "cell_type": "code",
   "execution_count": null,
   "metadata": {},
   "outputs": [],
   "source": [
    "# Declaring the heuristic function as manhattan distance\n",
    "def h(cell1,cell2):\n",
    "    x1,y1=cell1\n",
    "    x2,y2=cell2\n",
    "    return abs(x1-x2) + abs(y1-y2)\n",
    "\n",
    "def aStar(m,start):\n",
    "    # inf = infinity\n",
    "    g_score={cell:float('inf') for cell in m.grid} # distance from the start node\n",
    "    #print(g_score)\n",
    "    g_score[start]=0\n",
    "    f_score={cell:float('inf') for cell in m.grid} # total cost by summing up the g and h \n",
    "    f_score[start]=h(start,m._goal)\n",
    "\n",
    "    open=PriorityQueue() # Priority queue is looking for the f which is having the lowest value\n",
    "    open.put((h(start,m._goal),h(start,m._goal),start))\n",
    "    aPath={}\n",
    "    \n",
    "    while not open.empty():\n",
    "        currCell=open.get()[2]\n",
    "        if currCell==m._goal:\n",
    "            break\n",
    "        for d in \"ESNW\":\n",
    "            if m.maze_map[currCell][d]==True:\n",
    "                if d=='E':\n",
    "                    childCell=(currCell[0],currCell[1]+1)\n",
    "                if d=='W':\n",
    "                    childCell=(currCell[0],currCell[1]-1)\n",
    "                if d=='N':\n",
    "                    childCell=(currCell[0]-1,currCell[1])\n",
    "                if d=='S':\n",
    "                    childCell=(currCell[0]+1,currCell[1])\n",
    "\n",
    "                temp_g_score=g_score[currCell]+1\n",
    "                temp_f_score=temp_g_score+h(childCell,m._goal)\n",
    "\n",
    "                if temp_f_score < f_score[childCell]:\n",
    "                    g_score[childCell]=temp_g_score\n",
    "                    f_score[childCell]=temp_f_score\n",
    "                    open.put((temp_f_score,h(childCell,m._goal),childCell))\n",
    "                    aPath[childCell]=currCell\n",
    "\n",
    "    \n",
    "    fwdPath={}\n",
    "    cell=m._goal\n",
    "    \n",
    "    while cell!=start:\n",
    "        fwdPath[aPath[cell]]=cell\n",
    "        cell=aPath[cell]\n",
    "    return fwdPath"
   ]
  },
  {
   "cell_type": "markdown",
   "metadata": {},
   "source": [
    "### **Iterative Deepening Search (IDS)**"
   ]
  },
  {
   "cell_type": "code",
   "execution_count": null,
   "metadata": {},
   "outputs": [],
   "source": [
    "def IDS(m, start):\n",
    "    depth_count = 0\n",
    "    frontier = [(depth_count, start)]\n",
    "    explored = [start]\n",
    "    \n",
    "    dfsPath = {}\n",
    "    while len(frontier) > 0:\n",
    "        frontier.sort(key=lambda x: x[0])\n",
    "        currCell = frontier.pop(0)\n",
    "        cell = currCell[1]\n",
    "\n",
    "        depth_count = currCell[0] + 1\n",
    "\n",
    "        # explored.append(cell)\n",
    "\n",
    "        if cell == m._goal:\n",
    "            break\n",
    "        \n",
    "        # Finding neighbor cells\n",
    "        for d in \"EWSN\":\n",
    "            # A cell has 4 direction East, West, North, and South\n",
    "            # If the direction has a wall prevent agent to move\n",
    "            # Then the value of that direction is False, else True\n",
    "            if m.maze_map[cell][d] == True:\n",
    "                if d==\"N\":\n",
    "                    childCell = (cell[0]-1, cell[1])\n",
    "                elif d==\"S\":\n",
    "                    childCell = (cell[0]+1, cell[1])\n",
    "                elif d==\"W\":\n",
    "                    childCell = (cell[0], cell[1]-1)\n",
    "                elif d==\"E\":\n",
    "                    childCell = (cell[0], cell[1]+1)\n",
    "\n",
    "                # if the location has been explored                \n",
    "                if childCell in explored:\n",
    "                    continue\n",
    "                explored.append(childCell)\n",
    "\n",
    "                frontier.append((depth_count, childCell))\n",
    "                # Set parent of this neighbor to the current cell\n",
    "                dfsPath[childCell] = cell \n",
    "\n",
    "    # Trace back from the goal to the START cell\n",
    "    fwdPath = {}\n",
    "    while cell != start:\n",
    "        fwdPath[dfsPath[cell]] = cell\n",
    "        cell = dfsPath[cell]\n",
    "\n",
    "    return fwdPath"
   ]
  },
  {
   "cell_type": "markdown",
   "metadata": {},
   "source": [
    "### Select algorithm\n",
    "Select 1 algorithm out of the 2 and run the maze\n"
<<<<<<< Updated upstream
=======
<<<<<<< HEAD
   ]
  },
  {
   "cell_type": "code",
   "execution_count": null,
   "metadata": {},
   "outputs": [],
   "source": [
    "algorithm = 'Iterative Deepening Search'"
=======
>>>>>>> c8d5b698656db1c5e72d7b5606cdd29e4f6e0560
>>>>>>> Stashed changes
   ]
  },
  {
   "cell_type": "code",
   "execution_count": 4,
   "metadata": {},
   "outputs": [],
   "source": [
<<<<<<< Updated upstream
    "algorithm = 'Iterative Deepening Search'"
=======
<<<<<<< HEAD
    "algorithm = 'A Star Search'"
   ]
  },
  {
   "cell_type": "markdown",
   "metadata": {},
   "source": [
    "### Run Maze\n",
    "*Instruction:\n",
    "In order to change the goal during run time, hit \"Spacebar\""
=======
    "algorithm = 'Iterative Deepening Search'"
>>>>>>> c8d5b698656db1c5e72d7b5606cdd29e4f6e0560
>>>>>>> Stashed changes
   ]
  },
  {
   "cell_type": "code",
   "execution_count": null,
   "metadata": {},
   "outputs": [],
   "source": [
<<<<<<< Updated upstream
    "algorithm = 'A Star Search'"
=======
<<<<<<< HEAD
    "import time"
=======
    "algorithm = 'A Star Search'"
>>>>>>> c8d5b698656db1c5e72d7b5606cdd29e4f6e0560
>>>>>>> Stashed changes
   ]
  },
  {
   "cell_type": "markdown",
   "metadata": {},
   "source": [
<<<<<<< Updated upstream
    "### Run Maze\n",
    "*Instruction:\n",
    "In order to change the goal during run time, hit \"Spacebar\""
=======
<<<<<<< HEAD
    "### Maze 1 (30 x 30)"
=======
    "### Run Maze\n",
    "*Instruction:\n",
    "In order to change the goal during run time, hit \"Spacebar\""
>>>>>>> c8d5b698656db1c5e72d7b5606cdd29e4f6e0560
>>>>>>> Stashed changes
   ]
  },
  {
   "cell_type": "code",
   "execution_count": 5,
   "metadata": {},
   "outputs": [],
   "source": [
<<<<<<< Updated upstream
    "import time"
=======
<<<<<<< HEAD
    "filename = 'maze30-30.csv'\n",
    "start = (30,30)\n",
    "goals = [(1,1), (30,1), (1,30)]\n",
    "\n",
    "m1=maze()\n",
    "goal = goals[0]\n",
    "m1.CreateMaze(goal[0], goal[1], loadMaze= filename)\n",
    "\n",
    "if algorithm == 'Iterative Deepening Search': \n",
    "    t0= time.time() \n",
    "    path = aStar(m1,start)\n",
    "    t1 = time.time()\n",
    "    duration = round(t1 - t0, 4)\n",
    "    m1._time_AStar.append(duration)\n",
    "\n",
    "    t0= time.time() \n",
    "    path = IDS(m1,start)\n",
    "    t1 = time.time()\n",
    "    duration = round(t1 - t0, 4)\n",
    "    m1._time_IDS.append(duration)\n",
    "else: #A Star Search\n",
    "    t0= time.time() \n",
    "    path = IDS(m1,start)\n",
    "    t1 = time.time()\n",
    "    duration = round(t1 - t0, 4)\n",
    "    m1._time_IDS.append(duration)\n",
    "\n",
    "    t0= time.time() \n",
    "    path = aStar(m1,start)\n",
    "    t1 = time.time()\n",
    "    duration = round(t1 - t0, 4)\n",
    "    m1._time_AStar.append(duration)\n",
    "\n",
    "a=agent(m1, start[0], start[1], footprints=True)\n",
    "m1.tracePath({a:path}, delay = 100)\n",
    "l=textLabel(m1, (algorithm + ' Path Length'),len(path)+1)\n",
    "\n",
    "m1.enableChangeGoal(goals, a, algorithm)\n",
    "\n",
    "m1.run()"
=======
    "import time"
>>>>>>> c8d5b698656db1c5e72d7b5606cdd29e4f6e0560
>>>>>>> Stashed changes
   ]
  },
  {
   "cell_type": "markdown",
   "metadata": {},
   "source": [
<<<<<<< Updated upstream
    "### Maze 1 (30 x 30)"
=======
<<<<<<< HEAD
    "### Maze 2 (35 x 50)"
=======
    "### Maze 1 (30 x 30)"
>>>>>>> c8d5b698656db1c5e72d7b5606cdd29e4f6e0560
>>>>>>> Stashed changes
   ]
  },
  {
   "cell_type": "code",
<<<<<<< Updated upstream
   "execution_count": 6,
=======
<<<<<<< HEAD
   "execution_count": null,
=======
   "execution_count": 6,
>>>>>>> c8d5b698656db1c5e72d7b5606cdd29e4f6e0560
>>>>>>> Stashed changes
   "metadata": {},
   "outputs": [
    {
     "name": "stderr",
     "output_type": "stream",
     "text": [
      "Exception in Tkinter callback\n",
      "Traceback (most recent call last):\n",
      "  File \"C:\\Program Files\\WindowsApps\\PythonSoftwareFoundation.Python.3.9_3.9.2800.0_x64__qbz5n2kfra8p0\\lib\\tkinter\\__init__.py\", line 1892, in __call__\n",
      "    return self.func(*args)\n",
      "  File \"C:\\Program Files\\WindowsApps\\PythonSoftwareFoundation.Python.3.9_3.9.2800.0_x64__qbz5n2kfra8p0\\lib\\tkinter\\__init__.py\", line 814, in callit\n",
      "    func(*args)\n",
      "  File \"c:\\Users\\LEGION\\Downloads\\Homework\\A.I\\Assignment\\TIC3151-Assignment1-Q2\\pyamaze.py\", line 757, in _tracePathSingle\n",
      "    del maze._tracePathList[0][0][a]\n",
      "KeyError: <pyamaze.agent object at 0x0000025840D060D0>\n",
      "Exception in Tkinter callback\n",
      "Traceback (most recent call last):\n",
      "  File \"C:\\Program Files\\WindowsApps\\PythonSoftwareFoundation.Python.3.9_3.9.2800.0_x64__qbz5n2kfra8p0\\lib\\tkinter\\__init__.py\", line 1892, in __call__\n",
      "    return self.func(*args)\n",
      "  File \"C:\\Program Files\\WindowsApps\\PythonSoftwareFoundation.Python.3.9_3.9.2800.0_x64__qbz5n2kfra8p0\\lib\\tkinter\\__init__.py\", line 814, in callit\n",
      "    func(*args)\n",
      "  File \"c:\\Users\\LEGION\\Downloads\\Homework\\A.I\\Assignment\\TIC3151-Assignment1-Q2\\pyamaze.py\", line 757, in _tracePathSingle\n",
      "    del maze._tracePathList[0][0][a]\n",
      "KeyError: <pyamaze.agent object at 0x00000258420CFFD0>\n"
     ]
    }
   ],
   "source": [
<<<<<<< Updated upstream
=======
<<<<<<< HEAD
    "filename = 'maze35-50.csv'\n",
    "start = (1,1)\n",
    "goals = [(35,20), (5,30), (35,1)]\n",
    "\n",
    "m2=maze()\n",
    "goal = goals[0]\n",
    "m2.CreateMaze(goal[0], goal[1], loadMaze= filename)\n",
    "\n",
    "if algorithm == 'Iterative Deepening Search': \n",
    "    t0= time.time() \n",
    "    path = aStar(m2,start)\n",
    "    t1 = time.time()\n",
    "    duration = round(t1 - t0, 4)\n",
    "    m2._time_AStar.append(duration)\n",
    "\n",
    "    t0= time.time() \n",
    "    path = IDS(m2,start)\n",
    "    t1 = time.time()\n",
    "    duration = round(t1 - t0, 4)\n",
    "    m2._time_IDS.append(duration)\n",
    "else: #A Star Search\n",
    "    t0= time.time() \n",
    "    path = IDS(m2,start)\n",
    "    t1 = time.time()\n",
    "    duration = round(t1 - t0, 4)\n",
    "    m2._time_IDS.append(duration)\n",
    "\n",
    "    t0= time.time() \n",
    "    path = aStar(m2,start)\n",
    "    t1 = time.time()\n",
    "    duration = round(t1 - t0, 4)\n",
    "    m2._time_AStar.append(duration)\n",
    "\n",
    "a=agent(m2, start[0], start[1], footprints=True)\n",
    "m2.tracePath({a:path}, delay = 100)\n",
    "l=textLabel(m2, (algorithm + ' Path Length'),len(path)+1)\n",
    "\n",
    "m2.enableChangeGoal(goals, a, algorithm)\n",
    "\n",
    "m2.run()"
   ]
  },
  {
   "cell_type": "markdown",
   "metadata": {},
   "source": [
    "### Maze 3 (40 x 40)"
=======
>>>>>>> Stashed changes
    "filename = 'maze30-30.csv'\n",
    "start = (30,30)\n",
    "goals = [(1,1), (30,1), (1,30)]\n",
    "\n",
    "m1=maze()\n",
    "goal = goals[0]\n",
    "m1.CreateMaze(goal[0], goal[1], loadMaze= filename)\n",
    "\n",
    "if algorithm == 'Iterative Deepening Search': \n",
    "    t0= time.time() \n",
    "    path = aStar(m1,start)\n",
    "    t1 = time.time()\n",
    "    duration = round(t1 - t0, 4)\n",
    "    m1._time_AStar.append(duration)\n",
    "\n",
    "    t0= time.time() \n",
    "    path = IDS(m1,start)\n",
    "    t1 = time.time()\n",
    "    duration = round(t1 - t0, 4)\n",
    "    m1._time_IDS.append(duration)\n",
    "else: #A Star Search\n",
    "    t0= time.time() \n",
    "    path = IDS(m1,start)\n",
    "    t1 = time.time()\n",
    "    duration = round(t1 - t0, 4)\n",
    "    m1._time_IDS.append(duration)\n",
    "\n",
    "    t0= time.time() \n",
    "    path = aStar(m1,start)\n",
    "    t1 = time.time()\n",
    "    duration = round(t1 - t0, 4)\n",
    "    m1._time_AStar.append(duration)\n",
    "\n",
    "a=agent(m1, start[0], start[1], footprints=True)\n",
    "m1.tracePath({a:path}, delay = 100)\n",
    "l=textLabel(m1, (algorithm + ' Path Length'),len(path)+1)\n",
    "\n",
    "m1.enableChangeGoal(goals, a, algorithm)\n",
    "\n",
    "m1.run()"
<<<<<<< Updated upstream
=======
>>>>>>> c8d5b698656db1c5e72d7b5606cdd29e4f6e0560
>>>>>>> Stashed changes
   ]
  },
  {
   "cell_type": "code",
<<<<<<< Updated upstream
   "execution_count": 7,
=======
<<<<<<< HEAD
   "execution_count": null,
   "metadata": {},
   "outputs": [],
   "source": [
    "filename = 'maze40-40.csv'\n",
    "start = (6,6)\n",
    "goals = [(30,35), (1,1), (3,40)]\n",
    "\n",
    "m3=maze()\n",
    "goal = goals[0]\n",
    "m3.CreateMaze(goal[0], goal[1], loadMaze= filename)\n",
    "\n",
    "if algorithm == 'Iterative Deepening Search': \n",
    "    t0= time.time() \n",
    "    path = aStar(m3,start)\n",
    "    t1 = time.time()\n",
    "    duration = round(t1 - t0, 4)\n",
    "    m3._time_AStar.append(duration)\n",
    "\n",
    "    t0= time.time() \n",
    "    path = IDS(m3,start)\n",
    "    t1 = time.time()\n",
    "    duration = round(t1 - t0, 4)\n",
    "    m3._time_IDS.append(duration)\n",
    "else: #A Star Search\n",
    "    t0= time.time() \n",
    "    path = IDS(m3,start)\n",
    "    t1 = time.time()\n",
    "    duration = round(t1 - t0, 4)\n",
    "    m3._time_IDS.append(duration)\n",
    "\n",
    "    t0= time.time() \n",
    "    path = aStar(m3,start)\n",
    "    t1 = time.time()\n",
    "    duration = round(t1 - t0, 4)\n",
    "    m3._time_AStar.append(duration)\n",
    "\n",
    "a=agent(m3, start[0], start[1], footprints=True)\n",
    "m3.tracePath({a:path}, delay = 100)\n",
    "l=textLabel(m3, (algorithm + ' Path Length'),len(path)+1)\n",
    "\n",
    "m3.enableChangeGoal(goals, a, algorithm)\n",
    "\n",
    "m3.run()"
   ]
  },
  {
   "cell_type": "markdown",
=======
   "execution_count": 7,
>>>>>>> c8d5b698656db1c5e72d7b5606cdd29e4f6e0560
>>>>>>> Stashed changes
   "metadata": {},
   "outputs": [
    {
     "name": "stderr",
     "output_type": "stream",
     "text": [
      "Exception in Tkinter callback\n",
      "Traceback (most recent call last):\n",
      "  File \"C:\\Program Files\\WindowsApps\\PythonSoftwareFoundation.Python.3.9_3.9.2800.0_x64__qbz5n2kfra8p0\\lib\\tkinter\\__init__.py\", line 1892, in __call__\n",
      "    return self.func(*args)\n",
      "  File \"C:\\Program Files\\WindowsApps\\PythonSoftwareFoundation.Python.3.9_3.9.2800.0_x64__qbz5n2kfra8p0\\lib\\tkinter\\__init__.py\", line 814, in callit\n",
      "    func(*args)\n",
      "  File \"c:\\Users\\LEGION\\Downloads\\Homework\\A.I\\Assignment\\TIC3151-Assignment1-Q2\\pyamaze.py\", line 757, in _tracePathSingle\n",
      "    del maze._tracePathList[0][0][a]\n",
      "KeyError: <pyamaze.agent object at 0x0000025840D11760>\n",
      "Exception in Tkinter callback\n",
      "Traceback (most recent call last):\n",
      "  File \"C:\\Program Files\\WindowsApps\\PythonSoftwareFoundation.Python.3.9_3.9.2800.0_x64__qbz5n2kfra8p0\\lib\\tkinter\\__init__.py\", line 1892, in __call__\n",
      "    return self.func(*args)\n",
      "  File \"C:\\Program Files\\WindowsApps\\PythonSoftwareFoundation.Python.3.9_3.9.2800.0_x64__qbz5n2kfra8p0\\lib\\tkinter\\__init__.py\", line 814, in callit\n",
      "    func(*args)\n",
      "  File \"c:\\Users\\LEGION\\Downloads\\Homework\\A.I\\Assignment\\TIC3151-Assignment1-Q2\\pyamaze.py\", line 757, in _tracePathSingle\n",
      "    del maze._tracePathList[0][0][a]\n",
      "KeyError: <pyamaze.agent object at 0x0000025842481730>\n"
     ]
    }
   ],
   "source": [
<<<<<<< Updated upstream
=======
<<<<<<< HEAD
    "### Maze 4 (50 x 35)"
=======
>>>>>>> Stashed changes
    "filename = 'maze35-50.csv'\n",
    "start = (1,1)\n",
    "goals = [(35,20), (5,30), (35,1)]\n",
    "\n",
    "m2=maze()\n",
    "goal = goals[0]\n",
    "m2.CreateMaze(goal[0], goal[1], loadMaze= filename)\n",
    "\n",
    "if algorithm == 'Iterative Deepening Search': \n",
    "    t0= time.time() \n",
    "    path = aStar(m2,start)\n",
    "    t1 = time.time()\n",
    "    duration = round(t1 - t0, 4)\n",
    "    m2._time_AStar.append(duration)\n",
    "\n",
    "    t0= time.time() \n",
    "    path = IDS(m2,start)\n",
    "    t1 = time.time()\n",
    "    duration = round(t1 - t0, 4)\n",
    "    m2._time_IDS.append(duration)\n",
    "else: #A Star Search\n",
    "    t0= time.time() \n",
    "    path = IDS(m2,start)\n",
    "    t1 = time.time()\n",
    "    duration = round(t1 - t0, 4)\n",
    "    m2._time_IDS.append(duration)\n",
    "\n",
    "    t0= time.time() \n",
    "    path = aStar(m2,start)\n",
    "    t1 = time.time()\n",
    "    duration = round(t1 - t0, 4)\n",
    "    m2._time_AStar.append(duration)\n",
    "\n",
    "a=agent(m2, start[0], start[1], footprints=True)\n",
    "m2.tracePath({a:path}, delay = 100)\n",
    "l=textLabel(m2, (algorithm + ' Path Length'),len(path)+1)\n",
    "\n",
    "m2.enableChangeGoal(goals, a, algorithm)\n",
    "\n",
    "m2.run()"
<<<<<<< Updated upstream
=======
>>>>>>> c8d5b698656db1c5e72d7b5606cdd29e4f6e0560
>>>>>>> Stashed changes
   ]
  },
  {
   "cell_type": "code",
<<<<<<< Updated upstream
   "execution_count": 8,
=======
<<<<<<< HEAD
   "execution_count": null,
=======
   "execution_count": 8,
>>>>>>> c8d5b698656db1c5e72d7b5606cdd29e4f6e0560
>>>>>>> Stashed changes
   "metadata": {},
   "outputs": [
    {
     "name": "stderr",
     "output_type": "stream",
     "text": [
      "Exception in Tkinter callback\n",
      "Traceback (most recent call last):\n",
      "  File \"C:\\Program Files\\WindowsApps\\PythonSoftwareFoundation.Python.3.9_3.9.2800.0_x64__qbz5n2kfra8p0\\lib\\tkinter\\__init__.py\", line 1892, in __call__\n",
      "    return self.func(*args)\n",
      "  File \"C:\\Program Files\\WindowsApps\\PythonSoftwareFoundation.Python.3.9_3.9.2800.0_x64__qbz5n2kfra8p0\\lib\\tkinter\\__init__.py\", line 814, in callit\n",
      "    func(*args)\n",
      "  File \"c:\\Users\\LEGION\\Downloads\\Homework\\A.I\\Assignment\\TIC3151-Assignment1-Q2\\pyamaze.py\", line 757, in _tracePathSingle\n",
      "    del maze._tracePathList[0][0][a]\n",
      "KeyError: <pyamaze.agent object at 0x0000025840CFC7C0>\n",
      "Exception in Tkinter callback\n",
      "Traceback (most recent call last):\n",
      "  File \"C:\\Program Files\\WindowsApps\\PythonSoftwareFoundation.Python.3.9_3.9.2800.0_x64__qbz5n2kfra8p0\\lib\\tkinter\\__init__.py\", line 1892, in __call__\n",
      "    return self.func(*args)\n",
      "  File \"C:\\Program Files\\WindowsApps\\PythonSoftwareFoundation.Python.3.9_3.9.2800.0_x64__qbz5n2kfra8p0\\lib\\tkinter\\__init__.py\", line 814, in callit\n",
      "    func(*args)\n",
      "  File \"c:\\Users\\LEGION\\Downloads\\Homework\\A.I\\Assignment\\TIC3151-Assignment1-Q2\\pyamaze.py\", line 757, in _tracePathSingle\n",
      "    del maze._tracePathList[0][0][a]\n",
      "KeyError: <pyamaze.agent object at 0x0000025841F09760>\n"
     ]
    }
   ],
   "source": [
<<<<<<< Updated upstream
    "filename = 'maze40-40.csv'\n",
    "start = (6,6)\n",
    "goals = [(30,35), (1,1), (3,40)]\n",
    "\n",
    "m3=maze()\n",
    "goal = goals[0]\n",
    "m3.CreateMaze(goal[0], goal[1], loadMaze= filename)\n",
    "\n",
    "if algorithm == 'Iterative Deepening Search': \n",
    "    t0= time.time() \n",
    "    path = aStar(m3,start)\n",
    "    t1 = time.time()\n",
    "    duration = round(t1 - t0, 4)\n",
    "    m3._time_AStar.append(duration)\n",
    "\n",
    "    t0= time.time() \n",
    "    path = IDS(m3,start)\n",
    "    t1 = time.time()\n",
    "    duration = round(t1 - t0, 4)\n",
    "    m3._time_IDS.append(duration)\n",
    "else: #A Star Search\n",
    "    t0= time.time() \n",
    "    path = IDS(m3,start)\n",
    "    t1 = time.time()\n",
    "    duration = round(t1 - t0, 4)\n",
    "    m3._time_IDS.append(duration)\n",
    "\n",
    "    t0= time.time() \n",
    "    path = aStar(m3,start)\n",
    "    t1 = time.time()\n",
    "    duration = round(t1 - t0, 4)\n",
    "    m3._time_AStar.append(duration)\n",
    "\n",
    "a=agent(m3, start[0], start[1], footprints=True)\n",
    "m3.tracePath({a:path}, delay = 100)\n",
    "l=textLabel(m3, (algorithm + ' Path Length'),len(path)+1)\n",
    "\n",
    "m3.enableChangeGoal(goals, a, algorithm)\n",
    "\n",
    "m3.run()"
   ]
  },
  {
   "cell_type": "code",
   "execution_count": 9,
   "metadata": {},
   "outputs": [
    {
     "name": "stderr",
     "output_type": "stream",
     "text": [
      "Exception in Tkinter callback\n",
      "Traceback (most recent call last):\n",
      "  File \"C:\\Program Files\\WindowsApps\\PythonSoftwareFoundation.Python.3.9_3.9.2800.0_x64__qbz5n2kfra8p0\\lib\\tkinter\\__init__.py\", line 1892, in __call__\n",
      "    return self.func(*args)\n",
      "  File \"C:\\Program Files\\WindowsApps\\PythonSoftwareFoundation.Python.3.9_3.9.2800.0_x64__qbz5n2kfra8p0\\lib\\tkinter\\__init__.py\", line 814, in callit\n",
      "    func(*args)\n",
      "  File \"c:\\Users\\LEGION\\Downloads\\Homework\\A.I\\Assignment\\TIC3151-Assignment1-Q2\\pyamaze.py\", line 757, in _tracePathSingle\n",
      "    del maze._tracePathList[0][0][a]\n",
      "KeyError: <pyamaze.agent object at 0x0000025840CFCEE0>\n",
      "Exception in Tkinter callback\n",
      "Traceback (most recent call last):\n",
      "  File \"C:\\Program Files\\WindowsApps\\PythonSoftwareFoundation.Python.3.9_3.9.2800.0_x64__qbz5n2kfra8p0\\lib\\tkinter\\__init__.py\", line 1892, in __call__\n",
      "    return self.func(*args)\n",
      "  File \"C:\\Program Files\\WindowsApps\\PythonSoftwareFoundation.Python.3.9_3.9.2800.0_x64__qbz5n2kfra8p0\\lib\\tkinter\\__init__.py\", line 814, in callit\n",
      "    func(*args)\n",
      "  File \"c:\\Users\\LEGION\\Downloads\\Homework\\A.I\\Assignment\\TIC3151-Assignment1-Q2\\pyamaze.py\", line 757, in _tracePathSingle\n",
      "    del maze._tracePathList[0][0][a]\n",
      "KeyError: <pyamaze.agent object at 0x00000258420BD220>\n"
     ]
    }
   ],
   "source": [
    "filename = 'maze50-35.csv'\n",
    "start = (3,3)\n",
    "goals = [(40,30), (3,6), (30,35)]\n",
    "\n",
    "m4=maze()\n",
    "goal = goals[0]\n",
    "m4.CreateMaze(goal[0], goal[1], loadMaze= filename)\n",
    "\n",
    "if algorithm == 'Iterative Deepening Search': \n",
    "    t0= time.time() \n",
    "    path = aStar(m4,start)\n",
    "    t1 = time.time()\n",
    "    duration = round(t1 - t0, 4)\n",
    "    m4._time_AStar.append(duration)\n",
    "\n",
    "    t0= time.time() \n",
    "    path = IDS(m4,start)\n",
    "    t1 = time.time()\n",
    "    duration = round(t1 - t0, 4)\n",
    "    m4._time_IDS.append(duration)\n",
    "else: #A Star Search\n",
    "    t0= time.time() \n",
    "    path = IDS(m4,start)\n",
    "    t1 = time.time()\n",
    "    duration = round(t1 - t0, 4)\n",
    "    m4._time_IDS.append(duration)\n",
    "\n",
    "    t0= time.time() \n",
    "    path = aStar(m4,start)\n",
    "    t1 = time.time()\n",
    "    duration = round(t1 - t0, 4)\n",
    "    m4._time_AStar.append(duration)\n",
    "\n",
    "a=agent(m4, start[0], start[1], footprints=True)\n",
    "m4.tracePath({a:path}, delay = 100)\n",
    "l=textLabel(m4, (algorithm + ' Path Length'),len(path)+1)\n",
    "\n",
    "m4.enableChangeGoal(goals, a, algorithm)\n",
    "\n",
    "m4.run()"
=======
<<<<<<< HEAD
    "filename = 'maze50-35.csv'\n",
    "start = (3,3)\n",
    "goals = [(40,30), (3,6), (30,35)]\n",
    "\n",
    "m4=maze()\n",
    "goal = goals[0]\n",
    "m4.CreateMaze(goal[0], goal[1], loadMaze= filename)\n",
    "\n",
    "if algorithm == 'Iterative Deepening Search': \n",
    "    t0= time.time() \n",
    "    path = aStar(m4,start)\n",
    "    t1 = time.time()\n",
    "    duration = round(t1 - t0, 4)\n",
    "    m4._time_AStar.append(duration)\n",
    "\n",
    "    t0= time.time() \n",
    "    path = IDS(m4,start)\n",
    "    t1 = time.time()\n",
    "    duration = round(t1 - t0, 4)\n",
    "    m4._time_IDS.append(duration)\n",
    "else: #A Star Search\n",
    "    t0= time.time() \n",
    "    path = IDS(m4,start)\n",
    "    t1 = time.time()\n",
    "    duration = round(t1 - t0, 4)\n",
    "    m4._time_IDS.append(duration)\n",
    "\n",
    "    t0= time.time() \n",
    "    path = aStar(m4,start)\n",
    "    t1 = time.time()\n",
    "    duration = round(t1 - t0, 4)\n",
    "    m4._time_AStar.append(duration)\n",
    "\n",
    "a=agent(m4, start[0], start[1], footprints=True)\n",
    "m4.tracePath({a:path}, delay = 100)\n",
    "l=textLabel(m4, (algorithm + ' Path Length'),len(path)+1)\n",
    "\n",
    "m4.enableChangeGoal(goals, a, algorithm)\n",
    "\n",
    "m4.run()"
   ]
  },
  {
   "cell_type": "markdown",
   "metadata": {},
   "source": [
    "### Maze 5 (60 x 60)"
=======
    "filename = 'maze40-40.csv'\n",
    "start = (6,6)\n",
    "goals = [(30,35), (1,1), (3,40)]\n",
    "\n",
    "m3=maze()\n",
    "goal = goals[0]\n",
    "m3.CreateMaze(goal[0], goal[1], loadMaze= filename)\n",
    "\n",
    "if algorithm == 'Iterative Deepening Search': \n",
    "    t0= time.time() \n",
    "    path = aStar(m3,start)\n",
    "    t1 = time.time()\n",
    "    duration = round(t1 - t0, 4)\n",
    "    m3._time_AStar.append(duration)\n",
    "\n",
    "    t0= time.time() \n",
    "    path = IDS(m3,start)\n",
    "    t1 = time.time()\n",
    "    duration = round(t1 - t0, 4)\n",
    "    m3._time_IDS.append(duration)\n",
    "else: #A Star Search\n",
    "    t0= time.time() \n",
    "    path = IDS(m3,start)\n",
    "    t1 = time.time()\n",
    "    duration = round(t1 - t0, 4)\n",
    "    m3._time_IDS.append(duration)\n",
    "\n",
    "    t0= time.time() \n",
    "    path = aStar(m3,start)\n",
    "    t1 = time.time()\n",
    "    duration = round(t1 - t0, 4)\n",
    "    m3._time_AStar.append(duration)\n",
    "\n",
    "a=agent(m3, start[0], start[1], footprints=True)\n",
    "m3.tracePath({a:path}, delay = 100)\n",
    "l=textLabel(m3, (algorithm + ' Path Length'),len(path)+1)\n",
    "\n",
    "m3.enableChangeGoal(goals, a, algorithm)\n",
    "\n",
    "m3.run()"
>>>>>>> c8d5b698656db1c5e72d7b5606cdd29e4f6e0560
>>>>>>> Stashed changes
   ]
  },
  {
   "cell_type": "code",
<<<<<<< Updated upstream
   "execution_count": 10,
=======
<<<<<<< HEAD
   "execution_count": null,
=======
   "execution_count": 9,
>>>>>>> c8d5b698656db1c5e72d7b5606cdd29e4f6e0560
>>>>>>> Stashed changes
   "metadata": {},
   "outputs": [
    {
     "name": "stderr",
     "output_type": "stream",
     "text": [
      "Exception in Tkinter callback\n",
      "Traceback (most recent call last):\n",
      "  File \"C:\\Program Files\\WindowsApps\\PythonSoftwareFoundation.Python.3.9_3.9.2800.0_x64__qbz5n2kfra8p0\\lib\\tkinter\\__init__.py\", line 1892, in __call__\n",
      "    return self.func(*args)\n",
      "  File \"C:\\Program Files\\WindowsApps\\PythonSoftwareFoundation.Python.3.9_3.9.2800.0_x64__qbz5n2kfra8p0\\lib\\tkinter\\__init__.py\", line 814, in callit\n",
      "    func(*args)\n",
      "  File \"c:\\Users\\LEGION\\Downloads\\Homework\\A.I\\Assignment\\TIC3151-Assignment1-Q2\\pyamaze.py\", line 757, in _tracePathSingle\n",
      "    del maze._tracePathList[0][0][a]\n",
<<<<<<< Updated upstream
      "KeyError: <pyamaze.agent object at 0x0000025841CAD0A0>\n",
=======
      "KeyError: <pyamaze.agent object at 0x0000025840CFCEE0>\n",
>>>>>>> Stashed changes
      "Exception in Tkinter callback\n",
      "Traceback (most recent call last):\n",
      "  File \"C:\\Program Files\\WindowsApps\\PythonSoftwareFoundation.Python.3.9_3.9.2800.0_x64__qbz5n2kfra8p0\\lib\\tkinter\\__init__.py\", line 1892, in __call__\n",
      "    return self.func(*args)\n",
      "  File \"C:\\Program Files\\WindowsApps\\PythonSoftwareFoundation.Python.3.9_3.9.2800.0_x64__qbz5n2kfra8p0\\lib\\tkinter\\__init__.py\", line 814, in callit\n",
      "    func(*args)\n",
      "  File \"c:\\Users\\LEGION\\Downloads\\Homework\\A.I\\Assignment\\TIC3151-Assignment1-Q2\\pyamaze.py\", line 757, in _tracePathSingle\n",
      "    del maze._tracePathList[0][0][a]\n",
<<<<<<< Updated upstream
      "KeyError: <pyamaze.agent object at 0x0000025842738670>\n"
=======
      "KeyError: <pyamaze.agent object at 0x00000258420BD220>\n"
>>>>>>> Stashed changes
     ]
    }
   ],
   "source": [
<<<<<<< Updated upstream
=======
<<<<<<< HEAD
>>>>>>> Stashed changes
    "filename = 'maze60-60.csv'\n",
    "start = (10,10)\n",
    "goals = [(55,55), (8,18), (40,60)]\n",
    "\n",
    "m5=maze()\n",
    "goal = goals[0]\n",
    "m5.CreateMaze(goal[0], goal[1], loadMaze= filename)\n",
    "\n",
    "if algorithm == 'Iterative Deepening Search': \n",
    "    t0= time.time() \n",
    "    path = aStar(m5,start)\n",
    "    t1 = time.time()\n",
    "    duration = round(t1 - t0, 4)\n",
    "    m5._time_AStar.append(duration)\n",
    "\n",
    "    t0= time.time() \n",
    "    path = IDS(m5,start)\n",
    "    t1 = time.time()\n",
    "    duration = round(t1 - t0, 4)\n",
    "    m5._time_IDS.append(duration)\n",
    "else: #A Star Search\n",
    "    t0= time.time() \n",
    "    path = IDS(m5,start)\n",
    "    t1 = time.time()\n",
    "    duration = round(t1 - t0, 4)\n",
    "    m5._time_IDS.append(duration)\n",
    "\n",
    "    t0= time.time() \n",
    "    path = aStar(m5,start)\n",
    "    t1 = time.time()\n",
    "    duration = round(t1 - t0, 4)\n",
    "    m5._time_AStar.append(duration)\n",
    "\n",
    "a=agent(m5, start[0], start[1], footprints=True)\n",
    "m5.tracePath({a:path}, delay = 100)\n",
    "l=textLabel(m5, (algorithm + ' Path Length'),len(path)+1)\n",
    "\n",
    "m5.enableChangeGoal(goals, a, algorithm)\n",
    "\n",
    "m5.run()"
   ]
  },
  {
   "cell_type": "markdown",
   "metadata": {},
   "source": [
    "### Plot line chart"
=======
    "filename = 'maze50-35.csv'\n",
    "start = (3,3)\n",
    "goals = [(40,30), (3,6), (30,35)]\n",
    "\n",
    "m4=maze()\n",
    "goal = goals[0]\n",
    "m4.CreateMaze(goal[0], goal[1], loadMaze= filename)\n",
    "\n",
    "if algorithm == 'Iterative Deepening Search': \n",
    "    t0= time.time() \n",
    "    path = aStar(m4,start)\n",
    "    t1 = time.time()\n",
    "    duration = round(t1 - t0, 4)\n",
    "    m4._time_AStar.append(duration)\n",
    "\n",
    "    t0= time.time() \n",
    "    path = IDS(m4,start)\n",
    "    t1 = time.time()\n",
    "    duration = round(t1 - t0, 4)\n",
    "    m4._time_IDS.append(duration)\n",
    "else: #A Star Search\n",
    "    t0= time.time() \n",
    "    path = IDS(m4,start)\n",
    "    t1 = time.time()\n",
    "    duration = round(t1 - t0, 4)\n",
    "    m4._time_IDS.append(duration)\n",
    "\n",
    "    t0= time.time() \n",
    "    path = aStar(m4,start)\n",
    "    t1 = time.time()\n",
    "    duration = round(t1 - t0, 4)\n",
    "    m4._time_AStar.append(duration)\n",
    "\n",
    "a=agent(m4, start[0], start[1], footprints=True)\n",
    "m4.tracePath({a:path}, delay = 100)\n",
    "l=textLabel(m4, (algorithm + ' Path Length'),len(path)+1)\n",
    "\n",
    "m4.enableChangeGoal(goals, a, algorithm)\n",
    "\n",
    "m4.run()"
   ]
  },
  {
   "cell_type": "code",
<<<<<<< Updated upstream
   "execution_count": 13,
   "metadata": {},
   "outputs": [
    {
     "name": "stdout",
     "output_type": "stream",
     "text": [
      "Collecting pandas\n",
      "  Downloading pandas-1.4.1-cp39-cp39-win_amd64.whl (10.5 MB)\n",
      "Collecting numpy>=1.18.5\n",
      "  Downloading numpy-1.22.2-cp39-cp39-win_amd64.whl (14.7 MB)\n",
      "Collecting pytz>=2020.1\n",
      "  Downloading pytz-2021.3-py2.py3-none-any.whl (503 kB)\n",
      "Requirement already satisfied: python-dateutil>=2.8.1 in c:\\users\\legion\\appdata\\local\\packages\\pythonsoftwarefoundation.python.3.9_qbz5n2kfra8p0\\localcache\\local-packages\\python39\\site-packages (from pandas) (2.8.2)\n",
      "Requirement already satisfied: six>=1.5 in c:\\users\\legion\\appdata\\local\\packages\\pythonsoftwarefoundation.python.3.9_qbz5n2kfra8p0\\localcache\\local-packages\\python39\\site-packages (from python-dateutil>=2.8.1->pandas) (1.16.0)\n",
      "Installing collected packages: pytz, numpy, pandas\n"
     ]
    },
    {
     "name": "stderr",
     "output_type": "stream",
     "text": [
      "  WARNING: The script f2py.exe is installed in 'C:\\Users\\LEGION\\AppData\\Local\\Packages\\PythonSoftwareFoundation.Python.3.9_qbz5n2kfra8p0\\LocalCache\\local-packages\\Python39\\Scripts' which is not on PATH.\n",
      "  Consider adding this directory to PATH or, if you prefer to suppress this warning, use --no-warn-script-location.\n",
      "ERROR: Could not install packages due to an OSError: [WinError 32] The process cannot access the file because it is being used by another process: 'C:\\\\Users\\\\LEGION\\\\AppData\\\\Local\\\\Packages\\\\PythonSoftwareFoundation.Python.3.9_qbz5n2kfra8p0\\\\LocalCache\\\\local-packages\\\\Python39\\\\site-packages\\\\pandas\\\\core\\\\arrays\\\\sparse\\\\__init__.py'\n",
      "Check the permissions.\n",
      "\n",
      "WARNING: You are using pip version 21.2.4; however, version 22.0.3 is available.\n",
      "You should consider upgrading via the 'C:\\Users\\LEGION\\AppData\\Local\\Microsoft\\WindowsApps\\PythonSoftwareFoundation.Python.3.9_qbz5n2kfra8p0\\python.exe -m pip install --upgrade pip' command.\n"
     ]
    },
    {
     "name": "stdout",
     "output_type": "stream",
     "text": [
      "Collecting pandas\n",
      "  Using cached pandas-1.4.1-cp39-cp39-win_amd64.whl (10.5 MB)\n",
      "Requirement already satisfied: python-dateutil>=2.8.1 in c:\\users\\legion\\appdata\\local\\packages\\pythonsoftwarefoundation.python.3.9_qbz5n2kfra8p0\\localcache\\local-packages\\python39\\site-packages (from pandas) (2.8.2)\n",
      "Requirement already satisfied: numpy>=1.18.5 in c:\\users\\legion\\appdata\\local\\packages\\pythonsoftwarefoundation.python.3.9_qbz5n2kfra8p0\\localcache\\local-packages\\python39\\site-packages (from pandas) (1.22.2)\n",
      "Requirement already satisfied: pytz>=2020.1 in c:\\users\\legion\\appdata\\local\\packages\\pythonsoftwarefoundation.python.3.9_qbz5n2kfra8p0\\localcache\\local-packages\\python39\\site-packages (from pandas) (2021.3)\n",
      "Requirement already satisfied: six>=1.5 in c:\\users\\legion\\appdata\\local\\packages\\pythonsoftwarefoundation.python.3.9_qbz5n2kfra8p0\\localcache\\local-packages\\python39\\site-packages (from python-dateutil>=2.8.1->pandas) (1.16.0)\n",
      "Installing collected packages: pandas\n",
      "Successfully installed pandas-1.4.1\n",
      "Note: you may need to restart the kernel to use updated packages.\n"
     ]
    },
    {
     "name": "stderr",
     "output_type": "stream",
     "text": [
      "WARNING: You are using pip version 21.2.4; however, version 22.0.3 is available.\n",
      "You should consider upgrading via the 'C:\\Users\\LEGION\\AppData\\Local\\Microsoft\\WindowsApps\\PythonSoftwareFoundation.Python.3.9_qbz5n2kfra8p0\\python.exe -m pip install --upgrade pip' command.\n"
=======
   "execution_count": 10,
   "metadata": {},
   "outputs": [
    {
     "name": "stderr",
     "output_type": "stream",
     "text": [
      "Exception in Tkinter callback\n",
      "Traceback (most recent call last):\n",
      "  File \"C:\\Program Files\\WindowsApps\\PythonSoftwareFoundation.Python.3.9_3.9.2800.0_x64__qbz5n2kfra8p0\\lib\\tkinter\\__init__.py\", line 1892, in __call__\n",
      "    return self.func(*args)\n",
      "  File \"C:\\Program Files\\WindowsApps\\PythonSoftwareFoundation.Python.3.9_3.9.2800.0_x64__qbz5n2kfra8p0\\lib\\tkinter\\__init__.py\", line 814, in callit\n",
      "    func(*args)\n",
      "  File \"c:\\Users\\LEGION\\Downloads\\Homework\\A.I\\Assignment\\TIC3151-Assignment1-Q2\\pyamaze.py\", line 757, in _tracePathSingle\n",
      "    del maze._tracePathList[0][0][a]\n",
      "KeyError: <pyamaze.agent object at 0x0000025841CAD0A0>\n",
      "Exception in Tkinter callback\n",
      "Traceback (most recent call last):\n",
      "  File \"C:\\Program Files\\WindowsApps\\PythonSoftwareFoundation.Python.3.9_3.9.2800.0_x64__qbz5n2kfra8p0\\lib\\tkinter\\__init__.py\", line 1892, in __call__\n",
      "    return self.func(*args)\n",
      "  File \"C:\\Program Files\\WindowsApps\\PythonSoftwareFoundation.Python.3.9_3.9.2800.0_x64__qbz5n2kfra8p0\\lib\\tkinter\\__init__.py\", line 814, in callit\n",
      "    func(*args)\n",
      "  File \"c:\\Users\\LEGION\\Downloads\\Homework\\A.I\\Assignment\\TIC3151-Assignment1-Q2\\pyamaze.py\", line 757, in _tracePathSingle\n",
      "    del maze._tracePathList[0][0][a]\n",
      "KeyError: <pyamaze.agent object at 0x0000025842738670>\n"
>>>>>>> Stashed changes
     ]
    }
   ],
   "source": [
<<<<<<< Updated upstream
    "pip install pandas"
   ]
  },
  {
   "cell_type": "code",
   "execution_count": 14,
   "metadata": {},
   "outputs": [
    {
     "name": "stdout",
     "output_type": "stream",
     "text": [
      "Collecting matplotlib\n",
      "  Downloading matplotlib-3.5.1-cp39-cp39-win_amd64.whl (7.2 MB)\n",
      "Collecting packaging>=20.0\n",
      "  Downloading packaging-21.3-py3-none-any.whl (40 kB)\n",
      "Collecting pyparsing>=2.2.1\n",
      "  Downloading pyparsing-3.0.7-py3-none-any.whl (98 kB)\n",
      "Collecting cycler>=0.10\n",
      "  Downloading cycler-0.11.0-py3-none-any.whl (6.4 kB)\n",
      "Collecting pillow>=6.2.0\n",
      "  Downloading Pillow-9.0.1-cp39-cp39-win_amd64.whl (3.2 MB)\n",
      "Collecting kiwisolver>=1.0.1\n",
      "  Downloading kiwisolver-1.3.2-cp39-cp39-win_amd64.whl (52 kB)\n",
      "Requirement already satisfied: numpy>=1.17 in c:\\users\\legion\\appdata\\local\\packages\\pythonsoftwarefoundation.python.3.9_qbz5n2kfra8p0\\localcache\\local-packages\\python39\\site-packages (from matplotlib) (1.22.2)\n",
      "Requirement already satisfied: python-dateutil>=2.7 in c:\\users\\legion\\appdata\\local\\packages\\pythonsoftwarefoundation.python.3.9_qbz5n2kfra8p0\\localcache\\local-packages\\python39\\site-packages (from matplotlib) (2.8.2)\n",
      "Collecting fonttools>=4.22.0\n",
      "  Downloading fonttools-4.29.1-py3-none-any.whl (895 kB)\n",
      "Requirement already satisfied: six>=1.5 in c:\\users\\legion\\appdata\\local\\packages\\pythonsoftwarefoundation.python.3.9_qbz5n2kfra8p0\\localcache\\local-packages\\python39\\site-packages (from python-dateutil>=2.7->matplotlib) (1.16.0)\n",
      "Installing collected packages: pyparsing, pillow, packaging, kiwisolver, fonttools, cycler, matplotlib\n",
      "Successfully installed cycler-0.11.0 fonttools-4.29.1 kiwisolver-1.3.2 matplotlib-3.5.1 packaging-21.3 pillow-9.0.1 pyparsing-3.0.7\n",
      "Note: you may need to restart the kernel to use updated packages.\n"
     ]
    },
    {
     "name": "stderr",
     "output_type": "stream",
     "text": [
      "  WARNING: The scripts fonttools.exe, pyftmerge.exe, pyftsubset.exe and ttx.exe are installed in 'C:\\Users\\LEGION\\AppData\\Local\\Packages\\PythonSoftwareFoundation.Python.3.9_qbz5n2kfra8p0\\LocalCache\\local-packages\\Python39\\Scripts' which is not on PATH.\n",
      "  Consider adding this directory to PATH or, if you prefer to suppress this warning, use --no-warn-script-location.\n",
      "WARNING: You are using pip version 21.2.4; however, version 22.0.3 is available.\n",
      "You should consider upgrading via the 'C:\\Users\\LEGION\\AppData\\Local\\Microsoft\\WindowsApps\\PythonSoftwareFoundation.Python.3.9_qbz5n2kfra8p0\\python.exe -m pip install --upgrade pip' command.\n"
     ]
    }
   ],
   "source": [
    "pip install matplotlib"
=======
    "filename = 'maze60-60.csv'\n",
    "start = (10,10)\n",
    "goals = [(55,55), (8,18), (40,60)]\n",
    "\n",
    "m5=maze()\n",
    "goal = goals[0]\n",
    "m5.CreateMaze(goal[0], goal[1], loadMaze= filename)\n",
    "\n",
    "if algorithm == 'Iterative Deepening Search': \n",
    "    t0= time.time() \n",
    "    path = aStar(m5,start)\n",
    "    t1 = time.time()\n",
    "    duration = round(t1 - t0, 4)\n",
    "    m5._time_AStar.append(duration)\n",
    "\n",
    "    t0= time.time() \n",
    "    path = IDS(m5,start)\n",
    "    t1 = time.time()\n",
    "    duration = round(t1 - t0, 4)\n",
    "    m5._time_IDS.append(duration)\n",
    "else: #A Star Search\n",
    "    t0= time.time() \n",
    "    path = IDS(m5,start)\n",
    "    t1 = time.time()\n",
    "    duration = round(t1 - t0, 4)\n",
    "    m5._time_IDS.append(duration)\n",
    "\n",
    "    t0= time.time() \n",
    "    path = aStar(m5,start)\n",
    "    t1 = time.time()\n",
    "    duration = round(t1 - t0, 4)\n",
    "    m5._time_AStar.append(duration)\n",
    "\n",
    "a=agent(m5, start[0], start[1], footprints=True)\n",
    "m5.tracePath({a:path}, delay = 100)\n",
    "l=textLabel(m5, (algorithm + ' Path Length'),len(path)+1)\n",
    "\n",
    "m5.enableChangeGoal(goals, a, algorithm)\n",
    "\n",
    "m5.run()"
>>>>>>> c8d5b698656db1c5e72d7b5606cdd29e4f6e0560
   ]
  },
  {
   "cell_type": "markdown",
   "metadata": {},
   "source": [
    "Install pandas"
>>>>>>> Stashed changes
   ]
  },
  {
   "cell_type": "code",
<<<<<<< Updated upstream
   "execution_count": 15,
=======
   "execution_count": 13,
>>>>>>> Stashed changes
   "metadata": {},
   "outputs": [
    {
     "name": "stdout",
     "output_type": "stream",
     "text": [
      "Collecting pandas\n",
      "  Downloading pandas-1.4.1-cp39-cp39-win_amd64.whl (10.5 MB)\n",
      "Collecting numpy>=1.18.5\n",
      "  Downloading numpy-1.22.2-cp39-cp39-win_amd64.whl (14.7 MB)\n",
      "Collecting pytz>=2020.1\n",
      "  Downloading pytz-2021.3-py2.py3-none-any.whl (503 kB)\n",
      "Requirement already satisfied: python-dateutil>=2.8.1 in c:\\users\\legion\\appdata\\local\\packages\\pythonsoftwarefoundation.python.3.9_qbz5n2kfra8p0\\localcache\\local-packages\\python39\\site-packages (from pandas) (2.8.2)\n",
      "Requirement already satisfied: six>=1.5 in c:\\users\\legion\\appdata\\local\\packages\\pythonsoftwarefoundation.python.3.9_qbz5n2kfra8p0\\localcache\\local-packages\\python39\\site-packages (from python-dateutil>=2.8.1->pandas) (1.16.0)\n",
      "Installing collected packages: pytz, numpy, pandas\n"
     ]
    },
    {
     "name": "stderr",
     "output_type": "stream",
     "text": [
      "  WARNING: The script f2py.exe is installed in 'C:\\Users\\LEGION\\AppData\\Local\\Packages\\PythonSoftwareFoundation.Python.3.9_qbz5n2kfra8p0\\LocalCache\\local-packages\\Python39\\Scripts' which is not on PATH.\n",
      "  Consider adding this directory to PATH or, if you prefer to suppress this warning, use --no-warn-script-location.\n",
      "ERROR: Could not install packages due to an OSError: [WinError 32] The process cannot access the file because it is being used by another process: 'C:\\\\Users\\\\LEGION\\\\AppData\\\\Local\\\\Packages\\\\PythonSoftwareFoundation.Python.3.9_qbz5n2kfra8p0\\\\LocalCache\\\\local-packages\\\\Python39\\\\site-packages\\\\pandas\\\\core\\\\arrays\\\\sparse\\\\__init__.py'\n",
      "Check the permissions.\n",
      "\n",
      "WARNING: You are using pip version 21.2.4; however, version 22.0.3 is available.\n",
      "You should consider upgrading via the 'C:\\Users\\LEGION\\AppData\\Local\\Microsoft\\WindowsApps\\PythonSoftwareFoundation.Python.3.9_qbz5n2kfra8p0\\python.exe -m pip install --upgrade pip' command.\n"
     ]
    },
    {
     "name": "stdout",
     "output_type": "stream",
     "text": [
      "Collecting pandas\n",
      "  Using cached pandas-1.4.1-cp39-cp39-win_amd64.whl (10.5 MB)\n",
      "Requirement already satisfied: python-dateutil>=2.8.1 in c:\\users\\legion\\appdata\\local\\packages\\pythonsoftwarefoundation.python.3.9_qbz5n2kfra8p0\\localcache\\local-packages\\python39\\site-packages (from pandas) (2.8.2)\n",
      "Requirement already satisfied: numpy>=1.18.5 in c:\\users\\legion\\appdata\\local\\packages\\pythonsoftwarefoundation.python.3.9_qbz5n2kfra8p0\\localcache\\local-packages\\python39\\site-packages (from pandas) (1.22.2)\n",
      "Requirement already satisfied: pytz>=2020.1 in c:\\users\\legion\\appdata\\local\\packages\\pythonsoftwarefoundation.python.3.9_qbz5n2kfra8p0\\localcache\\local-packages\\python39\\site-packages (from pandas) (2021.3)\n",
      "Requirement already satisfied: six>=1.5 in c:\\users\\legion\\appdata\\local\\packages\\pythonsoftwarefoundation.python.3.9_qbz5n2kfra8p0\\localcache\\local-packages\\python39\\site-packages (from python-dateutil>=2.8.1->pandas) (1.16.0)\n",
      "Installing collected packages: pandas\n",
      "Successfully installed pandas-1.4.1\n",
      "Note: you may need to restart the kernel to use updated packages.\n"
     ]
    },
    {
     "name": "stderr",
     "output_type": "stream",
     "text": [
      "WARNING: You are using pip version 21.2.4; however, version 22.0.3 is available.\n",
      "You should consider upgrading via the 'C:\\Users\\LEGION\\AppData\\Local\\Microsoft\\WindowsApps\\PythonSoftwareFoundation.Python.3.9_qbz5n2kfra8p0\\python.exe -m pip install --upgrade pip' command.\n"
     ]
    }
   ],
   "source": [
    "pip install pandas"
   ]
  },
  {
   "cell_type": "markdown",
   "metadata": {},
   "source": [
    "Install matplotlib"
   ]
  },
  {
   "cell_type": "code",
<<<<<<< Updated upstream
   "execution_count": 16,
   "metadata": {},
   "outputs": [],
   "source": [
=======
   "execution_count": 14,
   "metadata": {},
   "outputs": [
    {
     "name": "stdout",
     "output_type": "stream",
     "text": [
      "Collecting matplotlib\n",
      "  Downloading matplotlib-3.5.1-cp39-cp39-win_amd64.whl (7.2 MB)\n",
      "Collecting packaging>=20.0\n",
      "  Downloading packaging-21.3-py3-none-any.whl (40 kB)\n",
      "Collecting pyparsing>=2.2.1\n",
      "  Downloading pyparsing-3.0.7-py3-none-any.whl (98 kB)\n",
      "Collecting cycler>=0.10\n",
      "  Downloading cycler-0.11.0-py3-none-any.whl (6.4 kB)\n",
      "Collecting pillow>=6.2.0\n",
      "  Downloading Pillow-9.0.1-cp39-cp39-win_amd64.whl (3.2 MB)\n",
      "Collecting kiwisolver>=1.0.1\n",
      "  Downloading kiwisolver-1.3.2-cp39-cp39-win_amd64.whl (52 kB)\n",
      "Requirement already satisfied: numpy>=1.17 in c:\\users\\legion\\appdata\\local\\packages\\pythonsoftwarefoundation.python.3.9_qbz5n2kfra8p0\\localcache\\local-packages\\python39\\site-packages (from matplotlib) (1.22.2)\n",
      "Requirement already satisfied: python-dateutil>=2.7 in c:\\users\\legion\\appdata\\local\\packages\\pythonsoftwarefoundation.python.3.9_qbz5n2kfra8p0\\localcache\\local-packages\\python39\\site-packages (from matplotlib) (2.8.2)\n",
      "Collecting fonttools>=4.22.0\n",
      "  Downloading fonttools-4.29.1-py3-none-any.whl (895 kB)\n",
      "Requirement already satisfied: six>=1.5 in c:\\users\\legion\\appdata\\local\\packages\\pythonsoftwarefoundation.python.3.9_qbz5n2kfra8p0\\localcache\\local-packages\\python39\\site-packages (from python-dateutil>=2.7->matplotlib) (1.16.0)\n",
      "Installing collected packages: pyparsing, pillow, packaging, kiwisolver, fonttools, cycler, matplotlib\n",
      "Successfully installed cycler-0.11.0 fonttools-4.29.1 kiwisolver-1.3.2 matplotlib-3.5.1 packaging-21.3 pillow-9.0.1 pyparsing-3.0.7\n",
      "Note: you may need to restart the kernel to use updated packages.\n"
     ]
    },
    {
     "name": "stderr",
     "output_type": "stream",
     "text": [
      "  WARNING: The scripts fonttools.exe, pyftmerge.exe, pyftsubset.exe and ttx.exe are installed in 'C:\\Users\\LEGION\\AppData\\Local\\Packages\\PythonSoftwareFoundation.Python.3.9_qbz5n2kfra8p0\\LocalCache\\local-packages\\Python39\\Scripts' which is not on PATH.\n",
      "  Consider adding this directory to PATH or, if you prefer to suppress this warning, use --no-warn-script-location.\n",
      "WARNING: You are using pip version 21.2.4; however, version 22.0.3 is available.\n",
      "You should consider upgrading via the 'C:\\Users\\LEGION\\AppData\\Local\\Microsoft\\WindowsApps\\PythonSoftwareFoundation.Python.3.9_qbz5n2kfra8p0\\python.exe -m pip install --upgrade pip' command.\n"
     ]
    }
   ],
   "source": [
    "pip install matplotlib"
   ]
  },
  {
   "cell_type": "code",
<<<<<<< HEAD
   "execution_count": null,
=======
   "execution_count": 15,
>>>>>>> c8d5b698656db1c5e72d7b5606cdd29e4f6e0560
   "metadata": {},
   "outputs": [],
   "source": [
    "import matplotlib, pandas as pd"
   ]
  },
  {
   "cell_type": "code",
<<<<<<< HEAD
   "execution_count": null,
=======
   "execution_count": 16,
>>>>>>> c8d5b698656db1c5e72d7b5606cdd29e4f6e0560
   "metadata": {},
   "outputs": [],
   "source": [
>>>>>>> Stashed changes
    "mazeName1 = 'maze' + str(m1.rows) + '-' + str(m1.cols)\n",
    "mazeName2 = 'maze' + str(m2.rows) + '-' + str(m2.cols)\n",
    "mazeName3 = 'maze' + str(m3.rows) + '-' + str(m3.cols)\n",
    "mazeName4 = 'maze' + str(m4.rows) + '-' + str(m4.cols)\n",
    "mazeName5 = 'maze' + str(m5.rows) + '-' + str(m5.cols)\n",
    "\n",
    "df = pd.DataFrame({\n",
    "   mazeName1: m1._time_AStar,\n",
    "   mazeName2: m2._time_AStar,\n",
    "   mazeName3: m3._time_AStar,\n",
    "   mazeName4: m4._time_AStar,\n",
    "   mazeName5: m5._time_AStar,\n",
<<<<<<< Updated upstream
=======
<<<<<<< HEAD
    "   }, index=['goal 1','goal 2', 'goal 3'])\n",
    "\n",
    "df1 = pd.DataFrame({\n",
    "   mazeName1: m1._time_IDS,\n",
    "   mazeName2: m2._time_IDS,\n",
    "   mazeName3: m3._time_IDS,\n",
    "   mazeName4: m4._time_IDS,\n",
    "   mazeName5: m5._time_IDS,\n",
=======
>>>>>>> c8d5b698656db1c5e72d7b5606cdd29e4f6e0560
>>>>>>> Stashed changes
    "   }, index=['goal 1','goal 2', 'goal 3'])"
   ]
  },
  {
   "cell_type": "markdown",
   "metadata": {},
   "source": [
    "### Line Graph (A Star)"
   ]
  },
  {
   "cell_type": "code",
<<<<<<< Updated upstream
=======
   "execution_count": null,
   "metadata": {},
   "outputs": [],
   "source": [
    "lines_AStar = df.plot.line()"
   ]
  },
  {
   "cell_type": "markdown",
   "metadata": {},
   "source": [
    "### Line Graph (Iterative Deepening Search)"
   ]
  },
  {
   "cell_type": "code",
<<<<<<< HEAD
   "execution_count": null,
   "metadata": {},
   "outputs": [],
   "source": [
    "lines_IDS = df1.plot.line()"
=======
>>>>>>> Stashed changes
   "execution_count": 17,
   "metadata": {},
   "outputs": [
    {
     "data": {
      "image/png": "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",
      "text/plain": [
       "<Figure size 432x288 with 1 Axes>"
      ]
     },
     "metadata": {
      "needs_background": "light"
     },
     "output_type": "display_data"
    }
   ],
   "source": [
    "lines = df.plot.line()"
>>>>>>> c8d5b698656db1c5e72d7b5606cdd29e4f6e0560
   ]
  }
 ],
 "metadata": {
  "interpreter": {
   "hash": "1118ab63d06f1c6ba6d83cce418698a460359b4f9ce8365e4a671d59781675a7"
  },
  "kernelspec": {
   "display_name": "Python 3.8.8 ('base')",
   "language": "python",
   "name": "python3"
  },
  "language_info": {
   "codemirror_mode": {
    "name": "ipython",
    "version": 3
   },
   "file_extension": ".py",
   "mimetype": "text/x-python",
   "name": "python",
   "nbconvert_exporter": "python",
   "pygments_lexer": "ipython3",
   "version": "3.9.10"
  },
  "orig_nbformat": 4
 },
 "nbformat": 4,
 "nbformat_minor": 2
}
